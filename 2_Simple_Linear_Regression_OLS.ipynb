{
 "cells": [
  {
   "cell_type": "markdown",
   "metadata": {},
   "source": [
    "# Simple linear regression"
   ]
  },
  {
   "cell_type": "markdown",
   "metadata": {},
   "source": [
    "We have real estate dataset. \n",
    "\n",
    "Real estate data almost always has a certain causal relationship.\n",
    "\n",
    "The data is located in the file: 'real_estate_price_size.csv'. \n",
    "\n",
    "Our aim is to perform a simple linear regression using the new data.\n",
    "\n",
    "Dependent variable:'price'\n",
    "Independent variables:'size'\n",
    "Logic: Price of the property is proportional to the size of the property. \n"
   ]
  },
  {
   "cell_type": "markdown",
   "metadata": {},
   "source": [
    "## Import the relevant libraries"
   ]
  },
  {
   "cell_type": "code",
   "execution_count": 1,
   "metadata": {
    "collapsed": true
   },
   "outputs": [],
   "source": [
    "import numpy as np\n",
    "import pandas as pd\n",
    "import matplotlib.pyplot as plt\n",
    "import statsmodels.api as sm      # This is the library we will use while running regressions. "
   ]
  },
  {
   "cell_type": "markdown",
   "metadata": {},
   "source": [
    "## Load the data"
   ]
  },
  {
   "cell_type": "code",
   "execution_count": 2,
   "metadata": {
    "collapsed": true
   },
   "outputs": [],
   "source": [
    "df = pd.read_csv('real_estate_price_size.csv')    # Returns a data frame"
   ]
  },
  {
   "cell_type": "code",
   "execution_count": 3,
   "metadata": {
    "collapsed": false
   },
   "outputs": [
    {
     "name": "stdout",
     "output_type": "stream",
     "text": [
      "         price     size\n",
      "0   234314.144   643.09\n",
      "1   228581.528   656.22\n",
      "2   281626.336   487.29\n",
      "3   401255.608  1504.75\n",
      "4   458674.256  1275.46\n",
      "5   245050.280   575.19\n",
      "6   265129.064   570.89\n",
      "7   175716.480   620.82\n",
      "8   331101.344   682.26\n",
      "9   218630.608   694.52\n",
      "10  279555.096  1060.36\n",
      "11  494778.992  1842.51\n",
      "12  215472.104   694.52\n",
      "13  418753.008  1009.25\n",
      "14  444192.008  1300.96\n",
      "15  440201.616  1379.72\n",
      "16  248337.600   690.54\n",
      "17  234178.160   623.94\n",
      "18  225451.984   681.07\n",
      "19  299416.976  1027.76\n",
      "20  268125.080   620.71\n",
      "21  171795.240   549.69\n",
      "22  412569.472  1207.45\n",
      "23  183459.488   518.38\n",
      "24  168047.264   525.81\n",
      "25  362519.720  1103.30\n",
      "26  271793.312   570.89\n",
      "27  406852.304  1334.10\n",
      "28  297760.440   681.07\n",
      "29  368988.432  1496.36\n",
      "..         ...      ...\n",
      "70  276875.632  1021.95\n",
      "71  181587.576   643.41\n",
      "72  298926.496   656.22\n",
      "73  211724.096   549.80\n",
      "74  228313.024   685.48\n",
      "75  286161.600   685.48\n",
      "76  382120.152  1183.46\n",
      "77  365863.936  1334.10\n",
      "78  251560.040   682.26\n",
      "79  342988.456  1188.62\n",
      "80  180307.216   681.07\n",
      "81  408637.816  1122.34\n",
      "82  190909.056   681.07\n",
      "83  282683.544   643.09\n",
      "84  303597.216   685.48\n",
      "85  376253.808  1009.25\n",
      "86  154282.128   479.75\n",
      "87  327252.112  1028.41\n",
      "88  211904.536   601.66\n",
      "89  354512.112  1236.93\n",
      "90  251140.656   694.52\n",
      "91  338078.168  1071.55\n",
      "92  298170.880   694.52\n",
      "93  266684.248   698.29\n",
      "94  262477.856   698.29\n",
      "95  252460.400   549.80\n",
      "96  310522.592  1037.44\n",
      "97  383635.568  1504.75\n",
      "98  225145.248   648.29\n",
      "99  274922.856   705.29\n",
      "\n",
      "[100 rows x 2 columns]\n"
     ]
    }
   ],
   "source": [
    "print(df)"
   ]
  },
  {
   "cell_type": "code",
   "execution_count": 4,
   "metadata": {
    "collapsed": false
   },
   "outputs": [
    {
     "name": "stdout",
     "output_type": "stream",
     "text": [
      "               price         size\n",
      "count     100.000000   100.000000\n",
      "mean   292289.470160   853.024200\n",
      "std     77051.727525   297.941951\n",
      "min    154282.128000   479.750000\n",
      "25%    234280.148000   643.330000\n",
      "50%    280590.716000   696.405000\n",
      "75%    335723.696000  1029.322500\n",
      "max    500681.128000  1842.510000\n"
     ]
    }
   ],
   "source": [
    "# Print descriptive statistics\n",
    "# Interpretation: Sample consists a total of 100 readings\n",
    "print(df.describe())"
   ]
  },
  {
   "cell_type": "markdown",
   "metadata": {},
   "source": [
    "## Create the regression"
   ]
  },
  {
   "cell_type": "markdown",
   "metadata": {},
   "source": [
    "### Declare the dependent and the independent variables"
   ]
  },
  {
   "cell_type": "code",
   "execution_count": 13,
   "metadata": {
    "collapsed": false
   },
   "outputs": [],
   "source": [
    "# Remember the Linear regression equation: [ y_hat = beta0 + beta1.x1 ]\n",
    "y = df.price       # Dependent Variable..One way to access the column\n",
    "x1 = df['size']    # Independent variable...Another way to access the column. NOTE: 'size' is a pandas keyword\n"
   ]
  },
  {
   "cell_type": "markdown",
   "metadata": {},
   "source": [
    "### Explore the data"
   ]
  },
  {
   "cell_type": "code",
   "execution_count": 14,
   "metadata": {
    "collapsed": false
   },
   "outputs": [
    {
     "data": {
      "image/png": "[encoded data removed]",
      "text/plain": [
       "<Figure size 432x288 with 1 Axes>"
      ]
     },
     "metadata": {},
     "output_type": "display_data"
    }
   ],
   "source": [
    "# Good Practice to plot the data and visualize the relationship\n",
    "plt.scatter(x1, y)\n",
    "plt.xlabel('size', fontsize=20)\n",
    "plt.ylabel('price', fontsize=20)\n",
    "plt.show()\n",
    "\n",
    "# We observe a strong positive relationship in between the size of the house and its price. "
   ]
  },
  {
   "cell_type": "markdown",
   "metadata": {},
   "source": [
    "### Regression itself"
   ]
  },
  {
   "cell_type": "code",
   "execution_count": 16,
   "metadata": {
    "collapsed": false
   },
   "outputs": [
    {
     "name": "stdout",
     "output_type": "stream",
     "text": [
      "                            OLS Regression Results                            \n",
      "==============================================================================\n",
      "Dep. Variable:                  price   R-squared:                       0.745\n",
      "Model:                            OLS   Adj. R-squared:                  0.742\n",
      "Method:                 Least Squares   F-statistic:                     285.9\n",
      "Date:                Sun, 30 Dec 2018   Prob (F-statistic):           8.13e-31\n",
      "Time:                        22:12:38   Log-Likelihood:                -1198.3\n",
      "No. Observations:                 100   AIC:                             2401.\n",
      "Df Residuals:                      98   BIC:                             2406.\n",
      "Df Model:                           1                                         \n",
      "Covariance Type:            nonrobust                                         \n",
      "==============================================================================\n",
      "                 coef    std err          t      P>|t|      [0.025      0.975]\n",
      "------------------------------------------------------------------------------\n",
      "const       1.019e+05   1.19e+04      8.550      0.000    7.83e+04    1.26e+05\n",
      "size         223.1787     13.199     16.909      0.000     196.986     249.371\n",
      "==============================================================================\n",
      "Omnibus:                        6.262   Durbin-Watson:                   2.267\n",
      "Prob(Omnibus):                  0.044   Jarque-Bera (JB):                2.938\n",
      "Skew:                           0.117   Prob(JB):                        0.230\n",
      "Kurtosis:                       2.194   Cond. No.                     2.75e+03\n",
      "==============================================================================\n",
      "\n",
      "Warnings:\n",
      "[1] Standard Errors assume that the covariance matrix of the errors is correctly specified.\n",
      "[2] The condition number is large, 2.75e+03. This might indicate that there are\n",
      "strong multicollinearity or other numerical problems.\n"
     ]
    }
   ],
   "source": [
    "# Note: We will use the library statsmodels to perform Linear regression. \n",
    "# General simple regression equation: y_hat = beta0 + beta1.x1\n",
    "# By default, the statsmodels method: statsmodels.regression.linear_model.OLS does not include the INTERCEPT beta0. \n",
    "# We have to explicitly manually add one if required. \n",
    "# 'statsmodels' however provides a convenience function called 'add_constant()' that adds a constant column to input dataset.\n",
    "\n",
    "x = sm.add_constant(x1)                                                    # Add a constant column to input dataset\n",
    "results = sm.OLS(y,x).fit()                                                # Perform the regression\n",
    "print(results.summary())"
   ]
  },
  {
   "cell_type": "markdown",
   "metadata": {},
   "source": [
    "### Plot the regression line on the initial scatter"
   ]
  },
  {
   "cell_type": "code",
   "execution_count": 19,
   "metadata": {
    "collapsed": false
   },
   "outputs": [
    {
     "data": {
      "image/png": "[encoded data removed]",
      "text/plain": [
       "<Figure size 432x288 with 1 Axes>"
      ]
     },
     "metadata": {},
     "output_type": "display_data"
    }
   ],
   "source": [
    "plt.scatter(x1,y)\n",
    "y_hat = 1.019e+05 + 223.1787*x1      # Construct the regression equation from the OLS results obtained above\n",
    "fig = plt.plot(x1, y_hat, lw = 2, c = 'red', label = 'Line of Best Fit')\n",
    "plt.xlabel('size', fontsize = 20)\n",
    "plt.ylabel('price', fontsize = 20)\n",
    "plt.show()\n"
   ]
  }
 ],
 "metadata": {
  "kernelspec": {
   "display_name": "Python 3",
   "language": "python",
   "name": "python3"
  },
  "language_info": {
   "codemirror_mode": {
    "name": "ipython",
    "version": 3
   },
   "file_extension": ".py",
   "mimetype": "text/x-python",
   "name": "python",
   "nbconvert_exporter": "python",
   "pygments_lexer": "ipython3",
   "version": "3.6.7"
  }
 },
 "nbformat": 4,
 "nbformat_minor": 2
}
