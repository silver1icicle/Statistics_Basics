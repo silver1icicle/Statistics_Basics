{
 "cells": [
  {
   "cell_type": "markdown",
   "metadata": {},
   "source": [
    "# Logistic Regression:"
   ]
  },
  {
   "cell_type": "markdown",
   "metadata": {},
   "source": [
    "Linear regression is merely a base on top of which we build the regression models. Real world problems are more complex and often require sophisticated non-linear models such as:\n",
    " - Quadratic\n",
    " - Exponential\n",
    " - Logistic\n",
    " "
   ]
  },
  {
   "cell_type": "markdown",
   "metadata": {},
   "source": [
    "A logistic regression is applied when the possible regression outcome (i.e. y_hat) is NOT NUMERIC rather CATEGORICAL. These categorical variables are represented through dummies. Here we are assuming that the predicted outcomes could have any 2 valid values such as 'Yes'/'No', 'Will Buy'/ 'Wont Buy', 'Pass'/'Fail', '0/1' etc...\n",
    "In business context, the decision making often boils down to 'Yes'/'No' situation. "
   ]
  },
  {
   "cell_type": "markdown",
   "metadata": {},
   "source": [
    "Problem Statement: Consider a problem statement where a student gets admitted or not [DV] on the basis of the SAT score [IV]. \n",
    "The DV is categorical ['Gets Admitted'/ 'Doesnt get admitted']. Since the DV is categorical, we have to use logistic regression model for predictions. "
   ]
  },
  {
   "cell_type": "markdown",
   "metadata": {},
   "source": [
    "# Import relevant libraries"
   ]
  },
  {
   "cell_type": "code",
   "execution_count": 1,
   "metadata": {
    "collapsed": true
   },
   "outputs": [],
   "source": [
    "import numpy as np\n",
    "import pandas as pd\n",
    "import matplotlib.pyplot as plt\n",
    "import statsmodels.api as sm\n",
    "import seaborn as sns\n",
    "sns.set()                                    # To override the default matpotlib plot style [kind of adding a skin to matplotlib charts]\n"
   ]
  },
  {
   "cell_type": "markdown",
   "metadata": {},
   "source": [
    "# Load the data"
   ]
  },
  {
   "cell_type": "code",
   "execution_count": 2,
   "metadata": {
    "collapsed": false
   },
   "outputs": [
    {
     "name": "stdout",
     "output_type": "stream",
     "text": [
      "----------------------------------------------------\n",
      "    SAT Admitted\n",
      "0  1363       No\n",
      "1  1792      Yes\n",
      "2  1954      Yes\n",
      "3  1653       No\n",
      "4  1593       No\n",
      "----------------------------------------------------\n",
      "Index(['SAT', 'Admitted'], dtype='object')\n",
      "----------------------------------------------------\n",
      "(168, 2)\n"
     ]
    }
   ],
   "source": [
    "df = pd.read_csv('Admittance.csv')                                        # Load the data\n",
    "\n",
    "print(\"----------------------------------------------------\")\n",
    "print(df.head())                                                          # Print the top 5 rows\n",
    "print(\"----------------------------------------------------\")\n",
    "#\n",
    "print(df.columns)                                                         # ['SAT', 'Admitted']\n",
    "print(\"----------------------------------------------------\")\n",
    "print(df.shape)                                                           # (168, 2)\n"
   ]
  },
  {
   "cell_type": "markdown",
   "metadata": {},
   "source": [
    "# Inference:\n",
    "1. Data has 2 columns- SAT (numeric) and Admitted (Categorical)\n",
    "2. Here DV: Admitted and IV: SAT \n",
    "3. In order to fit the logistic regression model, we need to first map the Categorical variable to Dummy numeric values. "
   ]
  },
  {
   "cell_type": "markdown",
   "metadata": {},
   "source": [
    "# Data Mapping"
   ]
  },
  {
   "cell_type": "code",
   "execution_count": 3,
   "metadata": {
    "collapsed": false
   },
   "outputs": [
    {
     "name": "stdout",
     "output_type": "stream",
     "text": [
      "1760227379520\n",
      "1760227860152\n",
      "['No' 'Yes']\n"
     ]
    }
   ],
   "source": [
    "# Create a copy of the original data frame\n",
    "new_df = df.copy()\n",
    "print(id(new_df))                  # 2515536379800\n",
    "print(id(df))                      # 2515660033384\n",
    "\n",
    "# Confirm that the DV has only 2 possible outcomes 'Yes' and 'No'\n",
    "print(new_df.Admitted.unique())    # ['No' 'Yes']\n",
    "\n",
    "# Map the column values\n",
    "new_df.Admitted = new_df.Admitted.map({'Yes':1, 'No':0})"
   ]
  },
  {
   "cell_type": "markdown",
   "metadata": {},
   "source": [
    "# Create the DV and IV"
   ]
  },
  {
   "cell_type": "code",
   "execution_count": 4,
   "metadata": {
    "collapsed": false
   },
   "outputs": [],
   "source": [
    "y = new_df.Admitted\n",
    "x1 = new_df.SAT\n"
   ]
  },
  {
   "cell_type": "markdown",
   "metadata": {},
   "source": [
    "# Let's plot the data"
   ]
  },
  {
   "cell_type": "code",
   "execution_count": 5,
   "metadata": {
    "collapsed": false
   },
   "outputs": [
    {
     "data": {
      "image/png": "[encoded data removed]",
      "text/plain": [
       "<Figure size 432x288 with 1 Axes>"
      ]
     },
     "metadata": {},
     "output_type": "display_data"
    }
   ],
   "source": [
    "plt.scatter(x1, y, color='C0')  # Matplotlib color scheme {'C0', 'C1', 'C2', 'C3', 'C4', 'C5', 'C6', 'C7', 'C8', 'C9'}\n",
    "                                #         {blue','orange','green','red','purple','brown','pink','gray','olive','cyan'} \n",
    "\n",
    "plt.title('Admits based on SAT scores', fontsize=12)\n",
    "plt.xlabel('SAT', fontsize=12)\n",
    "plt.ylabel('Admitted', fontsize=12)\n",
    "plt.show()"
   ]
  },
  {
   "cell_type": "markdown",
   "metadata": {},
   "source": [
    "# Inference:\n",
    "1. This is a typical logistic regression curve. This plot is common when dealing with categorical variable. \n",
    "2. The students plotted at '0', are the ones who didnt get admitted. \n",
    "3. The students plotted at '1', are the ones who got admitted. "
   ]
  },
  {
   "cell_type": "markdown",
   "metadata": {},
   "source": [
    "# Plot a Linear regression line to fit the data"
   ]
  },
  {
   "cell_type": "code",
   "execution_count": 6,
   "metadata": {
    "collapsed": false
   },
   "outputs": [
    {
     "name": "stdout",
     "output_type": "stream",
     "text": [
      "     const   SAT\n",
      "0      1.0  1363\n",
      "1      1.0  1792\n",
      "2      1.0  1954\n",
      "3      1.0  1653\n",
      "4      1.0  1593\n",
      "5      1.0  1755\n",
      "6      1.0  1775\n",
      "7      1.0  1887\n",
      "8      1.0  1893\n",
      "9      1.0  1580\n",
      "10     1.0  1857\n",
      "11     1.0  1880\n",
      "12     1.0  1664\n",
      "13     1.0  1364\n",
      "14     1.0  1693\n",
      "15     1.0  1850\n",
      "16     1.0  1633\n",
      "17     1.0  1634\n",
      "18     1.0  1636\n",
      "19     1.0  1855\n",
      "20     1.0  1987\n",
      "21     1.0  1997\n",
      "22     1.0  1422\n",
      "23     1.0  1508\n",
      "24     1.0  1720\n",
      "25     1.0  1879\n",
      "26     1.0  1634\n",
      "27     1.0  1802\n",
      "28     1.0  1849\n",
      "29     1.0  1764\n",
      "..     ...   ...\n",
      "138    1.0  1412\n",
      "139    1.0  1557\n",
      "140    1.0  1821\n",
      "141    1.0  1760\n",
      "142    1.0  1685\n",
      "143    1.0  1773\n",
      "144    1.0  1826\n",
      "145    1.0  1565\n",
      "146    1.0  1510\n",
      "147    1.0  1374\n",
      "148    1.0  1402\n",
      "149    1.0  1702\n",
      "150    1.0  1956\n",
      "151    1.0  1933\n",
      "152    1.0  1832\n",
      "153    1.0  1893\n",
      "154    1.0  1831\n",
      "155    1.0  1487\n",
      "156    1.0  2041\n",
      "157    1.0  1850\n",
      "158    1.0  1555\n",
      "159    1.0  2020\n",
      "160    1.0  1593\n",
      "161    1.0  1934\n",
      "162    1.0  1808\n",
      "163    1.0  1722\n",
      "164    1.0  1750\n",
      "165    1.0  1555\n",
      "166    1.0  1524\n",
      "167    1.0  1461\n",
      "\n",
      "[168 rows x 2 columns]\n"
     ]
    }
   ],
   "source": [
    "# The data is not linear...therefore fitting a linear regression model wont make much sense. Lets see how the fitted linear \n",
    "# regression line looks like. \n",
    "# Make provision for the constant term b0 - By using the statsmodels method - add_constant() which adds a new column 'const' \n",
    "# which contains all 1's. This new column simulates the variable 'x0'. \n",
    "\n",
    "x = sm.add_constant(x1)\n",
    "print(x)"
   ]
  },
  {
   "cell_type": "code",
   "execution_count": 7,
   "metadata": {
    "collapsed": false
   },
   "outputs": [
    {
     "name": "stdout",
     "output_type": "stream",
     "text": [
      "                            OLS Regression Results                            \n",
      "==============================================================================\n",
      "Dep. Variable:               Admitted   R-squared:                       0.683\n",
      "Model:                            OLS   Adj. R-squared:                  0.681\n",
      "Method:                 Least Squares   F-statistic:                     357.5\n",
      "Date:                Sun, 06 Jan 2019   Prob (F-statistic):           2.98e-43\n",
      "Time:                        16:28:37   Log-Likelihood:                -24.262\n",
      "No. Observations:                 168   AIC:                             52.52\n",
      "Df Residuals:                     166   BIC:                             58.77\n",
      "Df Model:                           1                                         \n",
      "Covariance Type:            nonrobust                                         \n",
      "==============================================================================\n",
      "                 coef    std err          t      P>|t|      [0.025      0.975]\n",
      "------------------------------------------------------------------------------\n",
      "const         -3.2519      0.203    -16.038      0.000      -3.652      -2.852\n",
      "SAT            0.0022      0.000     18.907      0.000       0.002       0.002\n",
      "==============================================================================\n",
      "Omnibus:                        7.929   Durbin-Watson:                   1.869\n",
      "Prob(Omnibus):                  0.019   Jarque-Bera (JB):                3.844\n",
      "Skew:                           0.090   Prob(JB):                        0.146\n",
      "Kurtosis:                       2.281   Cond. No.                     1.59e+04\n",
      "==============================================================================\n",
      "\n",
      "Warnings:\n",
      "[1] Standard Errors assume that the covariance matrix of the errors is correctly specified.\n",
      "[2] The condition number is large, 1.59e+04. This might indicate that there are\n",
      "strong multicollinearity or other numerical problems.\n",
      "const   -3.251859\n",
      "SAT      0.002248\n",
      "dtype: float64\n",
      "-3.251858542650689\n",
      "0.0022482399779685663\n"
     ]
    },
    {
     "data": {
      "image/png": "[encoded data removed]",
      "text/plain": [
       "<Figure size 432x288 with 1 Axes>"
      ]
     },
     "metadata": {},
     "output_type": "display_data"
    }
   ],
   "source": [
    "# Fit the linear regression model\n",
    "reg_lin = sm.OLS(y,x)                              # OLS Linear Regression Model\n",
    "results_lin = reg_lin.fit()                        # Fit the model and get the coefficients\n",
    "\n",
    "print(results_lin.summary())                       # Print elaborate result summary \n",
    "\n",
    "print(results_lin.params)                          # Fetch only the coefficients b0 and b1.\n",
    "print(results_lin.params[0])\n",
    "print(results_lin.params[1])\n",
    "\n",
    "# Construct the linear regression line equation: y= b0 + b1*x\n",
    "y_hat = results_lin.params[0] + results_lin.params[1] * x1\n",
    "\n",
    "# Create a scatter plot\n",
    "plt.scatter(x1, y, color='C2')             # Plot the observations \n",
    "plt.plot(x1, y_hat, lw=2.5, color='C8')    # Plot the regression line\n",
    "plt.title(\"Fitting linear model on logistic data\", fontsize=12)\n",
    "plt.xlabel(\"SAT\", fontsize=12)\n",
    "plt.ylabel(\"Admitted\", fontsize=12)\n",
    "plt.show()"
   ]
  },
  {
   "cell_type": "markdown",
   "metadata": {},
   "source": [
    "# Inference: \n",
    "1. This regression line doesnt make much sense and we cannot make predictions out of it for different values of x. \n",
    "   Also this regression line predicts values of y, outside the possible domain values of x i.e. for x > 1 and for x < 0. This is    incorrect. The regression is totally oblivious of the fact that the values of x are bounded between 0 and 1. \n",
    "   \n",
    "2. Thus linear regression is not appropriate for this case. It also violates the basic assumption of simple linear regression viz...Linearity i.e. there should be a linear relationship in between x and y. Our DATA is NON-LINEAR. Thus we must use non-linear approaches. \n",
    "\n",
    "We will now perform logistic regression. "
   ]
  },
  {
   "cell_type": "markdown",
   "metadata": {
    "collapsed": true
   },
   "source": [
    "# Logistic Regression - Theory\n",
    "1. Logistic regression is a specialised form of regression, which is formulated to predict a categorical variable. It accomodates the nonmetric variables through dummy variable coding. Logistic regression is therefore used to estimate the relationship in between a single BINARY DV and a set of numeric and/or categorical variables [IV's]. \n",
    "\n",
    "2. Logistic regression is used in applications where we need to CLASSIFY or categorize the group to which the object belongs to. For e.g. The success/failure of a new product, person should be granted loan/not depending upon his credit history.  \n",
    "\n",
    "3. MEANING OF REGRESSION COEFFCIENTS IN LOGISTIC REGRESSION: Assume that the DV is gender [Male:1, Female:0]. Assume that event of the gender being male is SUCCESS, then the IV's represent the IMPACT on the LIKELIHOOD OF SUCCESS. In order words, LOGISTIC REGRESSION PREDICTS THE PROBABILITY OF AN EVENT OCCURING. Since the binary DV can take values only 0 and 1, the PREDICTED VALUE (probability) must be bounded to fall within the same range. In other words: regression coefficient b1 = Associated change in probability that Y_predicted = 1, with a unit change in X.  \n",
    "\n",
    "4. The LOGISTIC REGRESSION uses the LOGISTIC CURVE to represent the relationship in between the IV and DV. At low levels of the IV, the logistic curve approaches 0 but never reaches it. As the IV increases, the curve approaches 1.0 but never exceeds it. A linear regression model, even with additional terms of Non_Linear Transformation can NEVER guarantee that the predicted values will lie in between 0 and 1. \n",
    "\n",
    "5. WHY LOGISTIC? When the dependent variable is of binary nature i.e. 0 or 1 i.e. discrete, the corresponding Error term follows BINOMIAL DISTRIBUTION, instead of the NORMAL DISTRIBUTION [This violates the assumption of MLR]. Secondly the VARIANCE OF A DICHOTOMOUS VARIABLE IS NOT CONSTANT, creating HETEROSCEDASTICITY. Both these 2 violations cannot be eliminated through transformations of the DV or IV. Logistic regression, however is capable of handling both these issues. \n",
    "\n",
    "6. ASSUMPTIONS OF LOGISTIC REGRESSION:\n",
    " As such Logistic regression doesnt have much assumptions: \n",
    " \n",
    " 6.1] Doesnt require any specific distributional form of the IV\n",
    " \n",
    " 6.2] Capable of handling heteroscedasticity \n",
    " \n",
    " 6.3] Does not require linear relationship in between the IV and DV. \n",
    " \n",
    " 6.4] Can handle non-linear relationships between IV and DV, even when exponential or polynomial terms are not explicitly added       as additional IV [owing to transformations]\n",
    " \n",
    "7. HOW TO PREDICT GROUP MEMEBERSHIP FROM LOGISTIC CURVE?\n",
    " Logistic regression technique predicts the probability in between 0 & 1. Plotting the predicted values (probabilities) for all values of the IV, generates an S-shaped curve. If the predicted value (probability) > 0.50 then the prediction is that the evet occurred/ is a success/ outcome is 1. If the predicted value <= 0.50, the event was a failure i.e. outcome is 0. Thus the logistic regression predicts the group membership using 0.50 as its CUTOFF VALUE, unless otherwise specified. Once we have the predicted membership, we can create a CLASSIFICATION MATRIX and assess, PREDICTIVE ACCURACY. \n",
    " \n",
    "8. TRANSFORMING THE PROBABILITY INTO ODDS AND LOGIT VALUES: \n",
    " Similar to MLR, the Logistic regression predicts a metric (or numeric) DV. In this case, its the probability values constrained in between 0 and 1. It is the LOGISTIC TRANSFORMATION, that ensures that the predicted values (probabilities) never fall outside this range [0,1]. The LOGISTIC TRANSFORMATION is a 2 step process:\n",
    " \n",
    " 8.1] Restating a PROBABILITY as ODDS:\n",
    " \n",
    " Probability = success/ (Success + Failure)\n",
    " \n",
    " Odds = Success/ Failure = p/(1-p) = Prob(Occurring)/ Prob(Not Occurring)\n",
    " \n",
    " Odds Ratio = Odds1/Odds0 = [p1/(1-p1)]/[p0/(1-p0)]   * NOTE: Larger odds are usually the numerator. \n",
    " \n",
    " 8.2] Calculating the LOGIT VALUE:\n",
    " \n",
    "                             Logit = NATURAL LOG OF ODDS \n",
    "                             => ln(p/(1-p)) = beta0 + beta1.x1\n",
    "                             => p/(1-p) = e^(beta0 + beta1.x1)\n",
    "                             => p = (1-p) . e^(beta0 + beta1.x1)\n",
    "                             => p = e^(beta0 + beta1.x1) - p.e^(beta0 + beta1.x1)\n",
    "                             => p(1 + e^(beta0 + beta1.x1)) = e^(beta0 + beta1.x1)\n",
    "                             => p = [e^(beta0 + beta1.x1)] / [1 + e^(beta0 + beta1.x1)] = Estimated regression Equation\n",
    "                             \n",
    " Generalizing it: P(Y = 1| X1, X2, X3.....Xk) = F(beta0 + beta1.x1 + beta2.x2........+ betak.xk), \n",
    " \n",
    " where F = cumulative distribution function (Logistic(in case of Logit) or Std Normal (in case of Probit))"
   ]
  },
  {
   "cell_type": "markdown",
   "metadata": {},
   "source": [
    "# Logistic Regression - Practicals"
   ]
  },
  {
   "cell_type": "code",
   "execution_count": 8,
   "metadata": {
    "collapsed": false
   },
   "outputs": [
    {
     "name": "stdout",
     "output_type": "stream",
     "text": [
      "Optimization terminated successfully.\n",
      "         Current function value: 0.137766\n",
      "         Iterations 10\n"
     ]
    },
    {
     "data": {
      "text/html": [
       "<table class=\"simpletable\">\n",
       "<caption>Logit Regression Results</caption>\n",
       "<tr>\n",
       "  <th>Dep. Variable:</th>     <td>Admitted</td>     <th>  No. Observations:  </th>  <td>   168</td>  \n",
       "</tr>\n",
       "<tr>\n",
       "  <th>Model:</th>               <td>Logit</td>      <th>  Df Residuals:      </th>  <td>   166</td>  \n",
       "</tr>\n",
       "<tr>\n",
       "  <th>Method:</th>               <td>MLE</td>       <th>  Df Model:          </th>  <td>     1</td>  \n",
       "</tr>\n",
       "<tr>\n",
       "  <th>Date:</th>          <td>Sun, 06 Jan 2019</td> <th>  Pseudo R-squ.:     </th>  <td>0.7992</td>  \n",
       "</tr>\n",
       "<tr>\n",
       "  <th>Time:</th>              <td>16:28:38</td>     <th>  Log-Likelihood:    </th> <td> -23.145</td> \n",
       "</tr>\n",
       "<tr>\n",
       "  <th>converged:</th>           <td>True</td>       <th>  LL-Null:           </th> <td> -115.26</td> \n",
       "</tr>\n",
       "<tr>\n",
       "  <th> </th>                      <td> </td>        <th>  LLR p-value:       </th> <td>5.805e-42</td>\n",
       "</tr>\n",
       "</table>\n",
       "<table class=\"simpletable\">\n",
       "<tr>\n",
       "    <td></td>       <th>coef</th>     <th>std err</th>      <th>z</th>      <th>P>|z|</th>  <th>[0.025</th>    <th>0.975]</th>  \n",
       "</tr>\n",
       "<tr>\n",
       "  <th>const</th> <td>  -69.9128</td> <td>   15.737</td> <td>   -4.443</td> <td> 0.000</td> <td> -100.756</td> <td>  -39.070</td>\n",
       "</tr>\n",
       "<tr>\n",
       "  <th>SAT</th>   <td>    0.0420</td> <td>    0.009</td> <td>    4.454</td> <td> 0.000</td> <td>    0.024</td> <td>    0.060</td>\n",
       "</tr>\n",
       "</table><br/><br/>Possibly complete quasi-separation: A fraction 0.27 of observations can be<br/>perfectly predicted. This might indicate that there is complete<br/>quasi-separation. In this case some parameters will not be identified."
      ],
      "text/plain": [
       "<class 'statsmodels.iolib.summary.Summary'>\n",
       "\"\"\"\n",
       "                           Logit Regression Results                           \n",
       "==============================================================================\n",
       "Dep. Variable:               Admitted   No. Observations:                  168\n",
       "Model:                          Logit   Df Residuals:                      166\n",
       "Method:                           MLE   Df Model:                            1\n",
       "Date:                Sun, 06 Jan 2019   Pseudo R-squ.:                  0.7992\n",
       "Time:                        16:28:38   Log-Likelihood:                -23.145\n",
       "converged:                       True   LL-Null:                       -115.26\n",
       "                                        LLR p-value:                 5.805e-42\n",
       "==============================================================================\n",
       "                 coef    std err          z      P>|z|      [0.025      0.975]\n",
       "------------------------------------------------------------------------------\n",
       "const        -69.9128     15.737     -4.443      0.000    -100.756     -39.070\n",
       "SAT            0.0420      0.009      4.454      0.000       0.024       0.060\n",
       "==============================================================================\n",
       "\n",
       "Possibly complete quasi-separation: A fraction 0.27 of observations can be\n",
       "perfectly predicted. This might indicate that there is complete\n",
       "quasi-separation. In this case some parameters will not be identified.\n",
       "\"\"\""
      ]
     },
     "execution_count": 8,
     "metadata": {},
     "output_type": "execute_result"
    }
   ],
   "source": [
    "reg_log = sm.Logit(y,x)                     # Logistic regression Model\n",
    "results_log = reg_log.fit()                 # Fit the model\n",
    "results_log.summary()                       # Print the summary"
   ]
  },
  {
   "cell_type": "code",
   "execution_count": 9,
   "metadata": {
    "collapsed": false
   },
   "outputs": [
    {
     "name": "stdout",
     "output_type": "stream",
     "text": [
      "-69.9128021761969\n",
      "0.04200486669376746\n"
     ]
    },
    {
     "data": {
      "image/png": "[encoded data removed]",
      "text/plain": [
       "<Figure size 432x288 with 1 Axes>"
      ]
     },
     "metadata": {},
     "output_type": "display_data"
    }
   ],
   "source": [
    "# Lets draw the curve using the regression equation, obtained above. \n",
    "beta0 = results_log.params[0]\n",
    "beta1 = results_log.params[1]\n",
    "print(beta0)\n",
    "print(beta1)\n",
    "\n",
    "# Now lets compute the logit value(s) using the formula: e^(beta0 + beta1.x1)/[1 + e^(beta0 + beta1.x1)]\n",
    "def f(x,b0,b1):\n",
    "    return np.array(np.exp(b0 + b1*x)/(1 + np.exp(b0 + b1*x)))    # Returns a numpy array. \n",
    "\n",
    "# The predicted probabilities - sorted\n",
    "prob_sorted = np.sort(f(x1, beta0, beta1))\n",
    "# The IV - sorted\n",
    "x_sorted = np.sort(np.array(x1))\n",
    "\n",
    "# Lets plot the original data and then overlay the LOGISTIC CURVE, by plotting the LOGIT values stored in prob_sorted. \n",
    "plt.scatter(x1, y, color='C0')\n",
    "plt.title(\"Fitting Logistic model on Logistic data\")\n",
    "plt.xlabel(\"SAT\", fontsize = 12)\n",
    "plt.ylabel(\"Admitted\", fontsize = 12)\n",
    "plt.plot(x_sorted, prob_sorted, color = 'C8', lw = 2)\n",
    "plt.show()\n"
   ]
  },
  {
   "cell_type": "markdown",
   "metadata": {},
   "source": [
    "# Inference:\n",
    "1. Logistic regression curve is a typical S-Shaped curve. \n",
    "\n",
    "2. Observe that the Logistic curve is bounded by 0 and 1. Therefore the logistic regression is also referred to as Binary Regression.\n",
    "\n",
    "3. The function f() we wrote above computed the PROBABILITY OF ADMISSION, given an SAT score. To elaborate further, when the SAT score is relatively low (1300 - 1500), the probability of admissions is relatively low (almost 0). Vice versa when the SAT score is relatively high (1800-2000), the probability of getting admitted is 1 or 100%. \n",
    "\n",
    "4. The SAT score between 1600 to 1700 is uncertain and there is a probability associated with the student getting admitted. For e.g. if the students SAT score is 1650, the probability of getting admitted is 0.5 i.e. there is a 50% chance of a student to get admitted with that SAT score. Similarly if the SAT score is 1700, the probability of getting admitted is 0.8 or 80%. \n"
   ]
  }
 ],
 "metadata": {
  "kernelspec": {
   "display_name": "Python 3",
   "language": "python",
   "name": "python3"
  },
  "language_info": {
   "codemirror_mode": {
    "name": "ipython",
    "version": 3
   },
   "file_extension": ".py",
   "mimetype": "text/x-python",
   "name": "python",
   "nbconvert_exporter": "python",
   "pygments_lexer": "ipython3",
   "version": "3.6.7"
  }
 },
 "nbformat": 4,
 "nbformat_minor": 2
}
