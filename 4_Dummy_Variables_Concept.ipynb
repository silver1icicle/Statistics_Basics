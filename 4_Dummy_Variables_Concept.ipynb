{
 "cells": [
  {
   "cell_type": "markdown",
   "metadata": {},
   "source": [
    "# Dummy Variables: Categorical variables cannot be directly put into the regression, unlike the Numeric Variables. \n",
    "Dummy refers to the imitation or copy or the substitute. Categorical variables are included in Regression model using a Dummy variable. \n",
    "The data we have contains 3 columns: 2 numeric [SAT and GPA] and 1 categorical [Attendence]\n",
    "The categorical data column contains values: 'Yes' if the attendance > 75% and 'No' if its less. "
   ]
  },
  {
   "cell_type": "code",
   "execution_count": 38,
   "metadata": {
    "collapsed": true
   },
   "outputs": [],
   "source": [
    "import numpy as np\n",
    "import matplotlib.pyplot as plt\n",
    "import pandas as pd\n",
    "import statsmodels.api as sm\n",
    "import seaborn as sns\n",
    "sns.set()              # This function helps us to override the default matplotlib style of plotting\n"
   ]
  },
  {
   "cell_type": "markdown",
   "metadata": {},
   "source": [
    "# Load the data"
   ]
  },
  {
   "cell_type": "code",
   "execution_count": 39,
   "metadata": {
    "collapsed": false
   },
   "outputs": [
    {
     "name": "stdout",
     "output_type": "stream",
     "text": [
      "     SAT   GPA Attendance\n",
      "0   1714  2.40         No\n",
      "1   1664  2.52         No\n",
      "2   1760  2.54         No\n",
      "3   1685  2.74         No\n",
      "4   1693  2.83         No\n",
      "5   1670  2.91         No\n",
      "6   1764  3.00         No\n",
      "7   1764  3.00         No\n",
      "8   1792  3.01         No\n",
      "9   1850  3.01         No\n",
      "10  1735  3.02         No\n",
      "11  1775  3.07         No\n",
      "12  1735  3.08         No\n",
      "13  1712  3.08         No\n",
      "14  1773  3.12         No\n",
      "15  1872  3.17        Yes\n",
      "16  1755  3.17         No\n",
      "17  1674  3.17        Yes\n",
      "18  1842  3.17         No\n",
      "19  1786  3.19        Yes\n",
      "20  1761  3.19         No\n",
      "21  1722  3.19         No\n",
      "22  1663  3.20         No\n",
      "23  1687  3.21         No\n",
      "24  1974  3.24         No\n",
      "25  1826  3.28         No\n",
      "26  1787  3.28         No\n",
      "27  1821  3.28         No\n",
      "28  2020  3.28         No\n",
      "29  1794  3.28         No\n",
      "..   ...   ...        ...\n",
      "54  1879  3.44        Yes\n",
      "55  1887  3.47        Yes\n",
      "56  1730  3.47        Yes\n",
      "57  1953  3.47         No\n",
      "58  1781  3.47        Yes\n",
      "59  1891  3.48        Yes\n",
      "60  1964  3.49         No\n",
      "61  1808  3.49         No\n",
      "62  1893  3.50        Yes\n",
      "63  2041  3.51         No\n",
      "64  1893  3.51        Yes\n",
      "65  1832  3.52        Yes\n",
      "66  1850  3.52        Yes\n",
      "67  1934  3.54        Yes\n",
      "68  1861  3.58        Yes\n",
      "69  1931  3.58        Yes\n",
      "70  1933  3.59        Yes\n",
      "71  1778  3.59        Yes\n",
      "72  1975  3.60        Yes\n",
      "73  1934  3.60        Yes\n",
      "74  2021  3.61        Yes\n",
      "75  2015  3.62        Yes\n",
      "76  1997  3.64        Yes\n",
      "77  2020  3.65         No\n",
      "78  1843  3.71        Yes\n",
      "79  1936  3.71        Yes\n",
      "80  1810  3.71        Yes\n",
      "81  1987  3.73         No\n",
      "82  1962  3.76        Yes\n",
      "83  2050  3.81        Yes\n",
      "\n",
      "[84 rows x 3 columns]\n"
     ]
    }
   ],
   "source": [
    "# Load the data from a CSV file into a pandas data frame\n",
    "df = pd.read_csv('Dummies.csv')\n",
    "print(df)\n",
    "\n",
    "# Observations:\n",
    "# DV: GPA\n",
    "# IV: SAT, Attendence\n",
    "# Variable types:\n",
    "#        Numeric  : SAT, GPA\n",
    "#        Categoric: Attendance\n",
    "# Strategy: Map the categorical data in terms of a dummy variable. "
   ]
  },
  {
   "cell_type": "markdown",
   "metadata": {},
   "source": [
    "# Map the data\n",
    "Map all 'No' entries with 0(zero) and all 'Yes' entries with 1(One). \n",
    "Create a copy of the exisiting data frame and then implement the above mapping"
   ]
  },
  {
   "cell_type": "code",
   "execution_count": 40,
   "metadata": {
    "collapsed": false
   },
   "outputs": [
    {
     "name": "stdout",
     "output_type": "stream",
     "text": [
      "1884070687464\n",
      "1884070880200\n",
      "Index(['SAT', 'GPA', 'Attendance'], dtype='object')\n"
     ]
    },
    {
     "data": {
      "text/html": [
       "<div>\n",
       "<style scoped>\n",
       "    .dataframe tbody tr th:only-of-type {\n",
       "        vertical-align: middle;\n",
       "    }\n",
       "\n",
       "    .dataframe tbody tr th {\n",
       "        vertical-align: top;\n",
       "    }\n",
       "\n",
       "    .dataframe thead th {\n",
       "        text-align: right;\n",
       "    }\n",
       "</style>\n",
       "<table border=\"1\" class=\"dataframe\">\n",
       "  <thead>\n",
       "    <tr style=\"text-align: right;\">\n",
       "      <th></th>\n",
       "      <th>SAT</th>\n",
       "      <th>GPA</th>\n",
       "      <th>Attendance</th>\n",
       "    </tr>\n",
       "  </thead>\n",
       "  <tbody>\n",
       "    <tr>\n",
       "      <th>0</th>\n",
       "      <td>1714</td>\n",
       "      <td>2.40</td>\n",
       "      <td>0</td>\n",
       "    </tr>\n",
       "    <tr>\n",
       "      <th>1</th>\n",
       "      <td>1664</td>\n",
       "      <td>2.52</td>\n",
       "      <td>0</td>\n",
       "    </tr>\n",
       "    <tr>\n",
       "      <th>2</th>\n",
       "      <td>1760</td>\n",
       "      <td>2.54</td>\n",
       "      <td>0</td>\n",
       "    </tr>\n",
       "    <tr>\n",
       "      <th>3</th>\n",
       "      <td>1685</td>\n",
       "      <td>2.74</td>\n",
       "      <td>0</td>\n",
       "    </tr>\n",
       "    <tr>\n",
       "      <th>4</th>\n",
       "      <td>1693</td>\n",
       "      <td>2.83</td>\n",
       "      <td>0</td>\n",
       "    </tr>\n",
       "  </tbody>\n",
       "</table>\n",
       "</div>"
      ],
      "text/plain": [
       "    SAT   GPA  Attendance\n",
       "0  1714  2.40           0\n",
       "1  1664  2.52           0\n",
       "2  1760  2.54           0\n",
       "3  1685  2.74           0\n",
       "4  1693  2.83           0"
      ]
     },
     "execution_count": 40,
     "metadata": {},
     "output_type": "execute_result"
    }
   ],
   "source": [
    "df_new = df.copy()\n",
    "print(id(df_new))       # 1884059734704\n",
    "print(id(df))           # 1884059688296...Understand the way python's copy() works. \n",
    "\n",
    "# Fetch column names\n",
    "print(df_new.columns)       # ['SAT', 'GPA', 'Attendance']\n",
    "\n",
    "# Implement the mapping of categorical variable to dummy variable. \n",
    "df_new.Attendance = df_new.Attendance.map({'Yes':1, 'No':0})\n",
    "\n",
    "# Print n confim\n",
    "df_new.head()\n"
   ]
  },
  {
   "cell_type": "markdown",
   "metadata": {},
   "source": [
    "# Generate Descriptive Statistics"
   ]
  },
  {
   "cell_type": "code",
   "execution_count": 41,
   "metadata": {
    "collapsed": false
   },
   "outputs": [
    {
     "data": {
      "text/html": [
       "<div>\n",
       "<style scoped>\n",
       "    .dataframe tbody tr th:only-of-type {\n",
       "        vertical-align: middle;\n",
       "    }\n",
       "\n",
       "    .dataframe tbody tr th {\n",
       "        vertical-align: top;\n",
       "    }\n",
       "\n",
       "    .dataframe thead th {\n",
       "        text-align: right;\n",
       "    }\n",
       "</style>\n",
       "<table border=\"1\" class=\"dataframe\">\n",
       "  <thead>\n",
       "    <tr style=\"text-align: right;\">\n",
       "      <th></th>\n",
       "      <th>SAT</th>\n",
       "      <th>GPA</th>\n",
       "      <th>Attendance</th>\n",
       "    </tr>\n",
       "  </thead>\n",
       "  <tbody>\n",
       "    <tr>\n",
       "      <th>count</th>\n",
       "      <td>84.000000</td>\n",
       "      <td>84.000000</td>\n",
       "      <td>84.000000</td>\n",
       "    </tr>\n",
       "    <tr>\n",
       "      <th>mean</th>\n",
       "      <td>1845.273810</td>\n",
       "      <td>3.330238</td>\n",
       "      <td>0.464286</td>\n",
       "    </tr>\n",
       "    <tr>\n",
       "      <th>std</th>\n",
       "      <td>104.530661</td>\n",
       "      <td>0.271617</td>\n",
       "      <td>0.501718</td>\n",
       "    </tr>\n",
       "    <tr>\n",
       "      <th>min</th>\n",
       "      <td>1634.000000</td>\n",
       "      <td>2.400000</td>\n",
       "      <td>0.000000</td>\n",
       "    </tr>\n",
       "    <tr>\n",
       "      <th>25%</th>\n",
       "      <td>1772.000000</td>\n",
       "      <td>3.190000</td>\n",
       "      <td>0.000000</td>\n",
       "    </tr>\n",
       "    <tr>\n",
       "      <th>50%</th>\n",
       "      <td>1846.000000</td>\n",
       "      <td>3.380000</td>\n",
       "      <td>0.000000</td>\n",
       "    </tr>\n",
       "    <tr>\n",
       "      <th>75%</th>\n",
       "      <td>1934.000000</td>\n",
       "      <td>3.502500</td>\n",
       "      <td>1.000000</td>\n",
       "    </tr>\n",
       "    <tr>\n",
       "      <th>max</th>\n",
       "      <td>2050.000000</td>\n",
       "      <td>3.810000</td>\n",
       "      <td>1.000000</td>\n",
       "    </tr>\n",
       "  </tbody>\n",
       "</table>\n",
       "</div>"
      ],
      "text/plain": [
       "               SAT        GPA  Attendance\n",
       "count    84.000000  84.000000   84.000000\n",
       "mean   1845.273810   3.330238    0.464286\n",
       "std     104.530661   0.271617    0.501718\n",
       "min    1634.000000   2.400000    0.000000\n",
       "25%    1772.000000   3.190000    0.000000\n",
       "50%    1846.000000   3.380000    0.000000\n",
       "75%    1934.000000   3.502500    1.000000\n",
       "max    2050.000000   3.810000    1.000000"
      ]
     },
     "execution_count": 41,
     "metadata": {},
     "output_type": "execute_result"
    }
   ],
   "source": [
    "df_new.describe()"
   ]
  },
  {
   "cell_type": "markdown",
   "metadata": {},
   "source": [
    "# **Inference:**\n",
    "1. Observe that the mean of the Attendance column is < 0.5 which indicates that there are more 0's than 1's i.e. more number of people have attendance less than 75%.\n",
    "\n",
    "2. To be precise, only 46% of the students have attendance more than 75%. \n"
   ]
  },
  {
   "cell_type": "markdown",
   "metadata": {},
   "source": [
    "# Perform Regression\n",
    "DV: GPA [of the student]\n",
    "IV: SAT [Initial SAT score secured by the student] , Attendance"
   ]
  },
  {
   "cell_type": "code",
   "execution_count": 42,
   "metadata": {
    "collapsed": false
   },
   "outputs": [
    {
     "name": "stdout",
     "output_type": "stream",
     "text": [
      "    const   SAT  Attendance\n",
      "0     1.0  1714           0\n",
      "1     1.0  1664           0\n",
      "2     1.0  1760           0\n",
      "3     1.0  1685           0\n",
      "4     1.0  1693           0\n",
      "5     1.0  1670           0\n",
      "6     1.0  1764           0\n",
      "7     1.0  1764           0\n",
      "8     1.0  1792           0\n",
      "9     1.0  1850           0\n",
      "10    1.0  1735           0\n",
      "11    1.0  1775           0\n",
      "12    1.0  1735           0\n",
      "13    1.0  1712           0\n",
      "14    1.0  1773           0\n",
      "15    1.0  1872           1\n",
      "16    1.0  1755           0\n",
      "17    1.0  1674           1\n",
      "18    1.0  1842           0\n",
      "19    1.0  1786           1\n",
      "20    1.0  1761           0\n",
      "21    1.0  1722           0\n",
      "22    1.0  1663           0\n",
      "23    1.0  1687           0\n",
      "24    1.0  1974           0\n",
      "25    1.0  1826           0\n",
      "26    1.0  1787           0\n",
      "27    1.0  1821           0\n",
      "28    1.0  2020           0\n",
      "29    1.0  1794           0\n",
      "..    ...   ...         ...\n",
      "54    1.0  1879           1\n",
      "55    1.0  1887           1\n",
      "56    1.0  1730           1\n",
      "57    1.0  1953           0\n",
      "58    1.0  1781           1\n",
      "59    1.0  1891           1\n",
      "60    1.0  1964           0\n",
      "61    1.0  1808           0\n",
      "62    1.0  1893           1\n",
      "63    1.0  2041           0\n",
      "64    1.0  1893           1\n",
      "65    1.0  1832           1\n",
      "66    1.0  1850           1\n",
      "67    1.0  1934           1\n",
      "68    1.0  1861           1\n",
      "69    1.0  1931           1\n",
      "70    1.0  1933           1\n",
      "71    1.0  1778           1\n",
      "72    1.0  1975           1\n",
      "73    1.0  1934           1\n",
      "74    1.0  2021           1\n",
      "75    1.0  2015           1\n",
      "76    1.0  1997           1\n",
      "77    1.0  2020           0\n",
      "78    1.0  1843           1\n",
      "79    1.0  1936           1\n",
      "80    1.0  1810           1\n",
      "81    1.0  1987           0\n",
      "82    1.0  1962           1\n",
      "83    1.0  2050           1\n",
      "\n",
      "[84 rows x 3 columns]\n"
     ]
    },
    {
     "data": {
      "text/html": [
       "<table class=\"simpletable\">\n",
       "<caption>OLS Regression Results</caption>\n",
       "<tr>\n",
       "  <th>Dep. Variable:</th>           <td>GPA</td>       <th>  R-squared:         </th> <td>   0.565</td>\n",
       "</tr>\n",
       "<tr>\n",
       "  <th>Model:</th>                   <td>OLS</td>       <th>  Adj. R-squared:    </th> <td>   0.555</td>\n",
       "</tr>\n",
       "<tr>\n",
       "  <th>Method:</th>             <td>Least Squares</td>  <th>  F-statistic:       </th> <td>   52.70</td>\n",
       "</tr>\n",
       "<tr>\n",
       "  <th>Date:</th>             <td>Sat, 05 Jan 2019</td> <th>  Prob (F-statistic):</th> <td>2.19e-15</td>\n",
       "</tr>\n",
       "<tr>\n",
       "  <th>Time:</th>                 <td>05:09:21</td>     <th>  Log-Likelihood:    </th> <td>  25.798</td>\n",
       "</tr>\n",
       "<tr>\n",
       "  <th>No. Observations:</th>      <td>    84</td>      <th>  AIC:               </th> <td>  -45.60</td>\n",
       "</tr>\n",
       "<tr>\n",
       "  <th>Df Residuals:</th>          <td>    81</td>      <th>  BIC:               </th> <td>  -38.30</td>\n",
       "</tr>\n",
       "<tr>\n",
       "  <th>Df Model:</th>              <td>     2</td>      <th>                     </th>     <td> </td>   \n",
       "</tr>\n",
       "<tr>\n",
       "  <th>Covariance Type:</th>      <td>nonrobust</td>    <th>                     </th>     <td> </td>   \n",
       "</tr>\n",
       "</table>\n",
       "<table class=\"simpletable\">\n",
       "<tr>\n",
       "       <td></td>         <th>coef</th>     <th>std err</th>      <th>t</th>      <th>P>|t|</th>  <th>[0.025</th>    <th>0.975]</th>  \n",
       "</tr>\n",
       "<tr>\n",
       "  <th>const</th>      <td>    0.6439</td> <td>    0.358</td> <td>    1.797</td> <td> 0.076</td> <td>   -0.069</td> <td>    1.357</td>\n",
       "</tr>\n",
       "<tr>\n",
       "  <th>SAT</th>        <td>    0.0014</td> <td>    0.000</td> <td>    7.141</td> <td> 0.000</td> <td>    0.001</td> <td>    0.002</td>\n",
       "</tr>\n",
       "<tr>\n",
       "  <th>Attendance</th> <td>    0.2226</td> <td>    0.041</td> <td>    5.451</td> <td> 0.000</td> <td>    0.141</td> <td>    0.304</td>\n",
       "</tr>\n",
       "</table>\n",
       "<table class=\"simpletable\">\n",
       "<tr>\n",
       "  <th>Omnibus:</th>       <td>19.560</td> <th>  Durbin-Watson:     </th> <td>   1.009</td>\n",
       "</tr>\n",
       "<tr>\n",
       "  <th>Prob(Omnibus):</th> <td> 0.000</td> <th>  Jarque-Bera (JB):  </th> <td>  27.189</td>\n",
       "</tr>\n",
       "<tr>\n",
       "  <th>Skew:</th>          <td>-1.028</td> <th>  Prob(JB):          </th> <td>1.25e-06</td>\n",
       "</tr>\n",
       "<tr>\n",
       "  <th>Kurtosis:</th>      <td> 4.881</td> <th>  Cond. No.          </th> <td>3.35e+04</td>\n",
       "</tr>\n",
       "</table><br/><br/>Warnings:<br/>[1] Standard Errors assume that the covariance matrix of the errors is correctly specified.<br/>[2] The condition number is large, 3.35e+04. This might indicate that there are<br/>strong multicollinearity or other numerical problems."
      ],
      "text/plain": [
       "<class 'statsmodels.iolib.summary.Summary'>\n",
       "\"\"\"\n",
       "                            OLS Regression Results                            \n",
       "==============================================================================\n",
       "Dep. Variable:                    GPA   R-squared:                       0.565\n",
       "Model:                            OLS   Adj. R-squared:                  0.555\n",
       "Method:                 Least Squares   F-statistic:                     52.70\n",
       "Date:                Sat, 05 Jan 2019   Prob (F-statistic):           2.19e-15\n",
       "Time:                        05:09:21   Log-Likelihood:                 25.798\n",
       "No. Observations:                  84   AIC:                            -45.60\n",
       "Df Residuals:                      81   BIC:                            -38.30\n",
       "Df Model:                           2                                         \n",
       "Covariance Type:            nonrobust                                         \n",
       "==============================================================================\n",
       "                 coef    std err          t      P>|t|      [0.025      0.975]\n",
       "------------------------------------------------------------------------------\n",
       "const          0.6439      0.358      1.797      0.076      -0.069       1.357\n",
       "SAT            0.0014      0.000      7.141      0.000       0.001       0.002\n",
       "Attendance     0.2226      0.041      5.451      0.000       0.141       0.304\n",
       "==============================================================================\n",
       "Omnibus:                       19.560   Durbin-Watson:                   1.009\n",
       "Prob(Omnibus):                  0.000   Jarque-Bera (JB):               27.189\n",
       "Skew:                          -1.028   Prob(JB):                     1.25e-06\n",
       "Kurtosis:                       4.881   Cond. No.                     3.35e+04\n",
       "==============================================================================\n",
       "\n",
       "Warnings:\n",
       "[1] Standard Errors assume that the covariance matrix of the errors is correctly specified.\n",
       "[2] The condition number is large, 3.35e+04. This might indicate that there are\n",
       "strong multicollinearity or other numerical problems.\n",
       "\"\"\""
      ]
     },
     "execution_count": 42,
     "metadata": {},
     "output_type": "execute_result"
    }
   ],
   "source": [
    "y = df_new.GPA                                      # DV\n",
    "x1 = df_new[['SAT', 'Attendance']]                  # IV's\n",
    "\n",
    "# We are using statsmodels for performing the multiple linear regression. By default it doesnt consider the constant term b0. \n",
    "# In case you wish to include it, use the add_constant() and add a new column 'const' which consists of only 1's. \n",
    "x = sm.add_constant(x1)                             # Adding a new column to make provision for inclusion of constant b0. \n",
    "print(x)\n",
    "\n",
    "# Fit the model using OLS regression\n",
    "results = sm.OLS(y,x).fit()\n",
    "\n",
    "# Print the regression summary\n",
    "results.summary()"
   ]
  },
  {
   "cell_type": "markdown",
   "metadata": {},
   "source": [
    "# Inference:\n",
    "1. Observe the F-statistic:\n",
    "F-test:\n",
    "    H0: All beta's are 0 i.e. beta1 = beta2 = beta3 .....= betak = 0 i.e. None of the IV are statistically significant.  \n",
    "    H1: Atleast one of the beta is non-zero.\n",
    "\n",
    "In our case:\n",
    "F-statistic:  52.70\n",
    "Prob (F-statistic): 2.19e-15   .... (The p-value corresponding to this F-statistic). Here the p-value is very \n",
    "low..practically 0.000 which is less tha 0.05. Thus the OVERALL MODEL IS SIGNIFICANT. Overall model is significant. \n",
    "\n",
    "2. Observe the p-value's of the IV's viz...SAT (i.e. 0.000 < 0.05) and Attendance (i.e. 0.000 < 0.05). Thus both the IV's are significant. \n",
    "\n",
    "3. The adjusted R-squared of this model is 0.555, which is a good improvement from when we did not consider the Attendance attribute (0.392)\n"
   ]
  },
  {
   "cell_type": "markdown",
   "metadata": {},
   "source": [
    "# Plot the regression line(s) on the scatter plot"
   ]
  },
  {
   "cell_type": "code",
   "execution_count": 43,
   "metadata": {
    "collapsed": false
   },
   "outputs": [
    {
     "data": {
      "image/png": "[encoded data removed]",
      "text/plain": [
       "<Figure size 432x288 with 1 Axes>"
      ]
     },
     "metadata": {},
     "output_type": "display_data"
    }
   ],
   "source": [
    "# Create a scatter plot of SAT [IV] and GPA [DV] \n",
    "plt.scatter(df_new.SAT, df_new.GPA)     \n",
    "\n",
    "# There will be 2 regression equations depending upon the value of the 'Attendance' columnn (dummy) i.e. O(No) or 1(Yes)\n",
    "# y_hat_no  = 0.6439 + 0.0014 * SAT + 0.2226 * 0 => 0.6439 + 0.0014 * SAT \n",
    "# y_hat_yes = 0.6439 + 0.0014 * SAT + 0.2226 * 1 => 0.8665 + 0.0014 * SAT\n",
    "# Because of these 2 equations there will be 2 different regression lines overlayed on the scatter plot\n",
    "\n",
    "y_hat_no = 0.6439 + 0.0014 * df_new.SAT             # All the corresponding values of y_hat are computed for given X i.e. SAT\n",
    "y_hat_yes = 0.8665 + 0.0014 * df_new.SAT            # All the corresponding values of y_hat are computed for given X i.e. SAT\n",
    "\n",
    "# Plot the 2 regression lines\n",
    "fig = plt.plot(df_new['SAT'], y_hat_no, lw=2, c=\"#00AA01\")\n",
    "fig = plt.plot(df_new['SAT'], y_hat_yes, lw=2, c=\"#a50000\")\n",
    "\n",
    "# Label the plot\n",
    "plt.title('Demonstrate the use of Dummy variables in MLR', fontsize=12)\n",
    "plt.xlabel('SAT', fontsize=12)\n",
    "plt.ylabel('GPA', fontsize=12)\n",
    "plt.show()\n"
   ]
  },
  {
   "cell_type": "markdown",
   "metadata": {},
   "source": [
    "# Inference:\n",
    "1. Both the equations have the same slope but different intercepts. \n",
    "2. Red line == Regression line when students attended the classes [i.e. The Dummy variable value for Attendance = 1]\n",
    "   Green line == Regression line when students did not attend the classes [i.e. The Dummy variable value for Attendance = 0]\n",
    "   We observe that the GPA for students who attended the classes is more than the GPA for students who did not...which in a way \n",
    "   makes sense aswell. \n",
    "   Lets improve the above graph and spot the students who attended the classes and the one who did not. \n",
    "   "
   ]
  },
  {
   "cell_type": "markdown",
   "metadata": {},
   "source": [
    "# Scatter Plot with differentiated data points."
   ]
  },
  {
   "cell_type": "code",
   "execution_count": 44,
   "metadata": {
    "collapsed": false
   },
   "outputs": [
    {
     "data": {
      "image/png": "[encoded data removed]",
      "text/plain": [
       "<Figure size 432x288 with 1 Axes>"
      ]
     },
     "metadata": {},
     "output_type": "display_data"
    }
   ],
   "source": [
    "# Create a scatter plot of SAT [IV] and GPA [DV] \n",
    "plt.scatter(df_new.SAT, df_new.GPA, c = df_new.Attendance, cmap=\"RdYlGn_r\")         # To plot points for different data's\n",
    "\n",
    "# There will be 2 regression equations depending upon the value of the 'Attendance' columnn (dummy) i.e. O(No) or 1(Yes)\n",
    "# y_hat_no  = 0.6439 + 0.0014 * SAT + 0.2226 * 0 => 0.6439 + 0.0014 * SAT \n",
    "# y_hat_yes = 0.6439 + 0.0014 * SAT + 0.2226 * 1 => 0.8665 + 0.0014 * SAT\n",
    "# Because of these 2 equations there will be 2 different regression lines overlayed on the scatter plot\n",
    "\n",
    "y_hat_no = 0.6439 + 0.0014 * df_new.SAT             # All the corresponding values of y_hat are computed for given X i.e. SAT\n",
    "y_hat_yes = 0.8665 + 0.0014 * df_new.SAT            # All the corresponding values of y_hat are computed for given X i.e. SAT\n",
    "\n",
    "# Plot the 2 regression lines\n",
    "fig = plt.plot(df_new['SAT'], y_hat_no, lw=2, c=\"#00AA01\")\n",
    "fig = plt.plot(df_new['SAT'], y_hat_yes, lw=2, c=\"#a50000\")\n",
    "\n",
    "# Label the plot\n",
    "plt.title('Demonstrate the use of Dummy variables in MLR', fontsize=12)\n",
    "plt.xlabel('SAT', fontsize=12)\n",
    "plt.ylabel('GPA', fontsize=12)\n",
    "plt.show()\n"
   ]
  }
 ],
 "metadata": {
  "kernelspec": {
   "display_name": "Python 3",
   "language": "python",
   "name": "python3"
  },
  "language_info": {
   "codemirror_mode": {
    "name": "ipython",
    "version": 3
   },
   "file_extension": ".py",
   "mimetype": "text/x-python",
   "name": "python",
   "nbconvert_exporter": "python",
   "pygments_lexer": "ipython3",
   "version": "3.6.7"
  }
 },
 "nbformat": 4,
 "nbformat_minor": 2
}
