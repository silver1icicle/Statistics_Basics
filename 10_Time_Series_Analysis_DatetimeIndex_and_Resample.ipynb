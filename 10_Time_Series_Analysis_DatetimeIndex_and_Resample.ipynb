{
 "cells": [
  {
   "cell_type": "markdown",
   "metadata": {},
   "source": [
    "# Time Series is a sequence of data points INDEXED in time order. \n",
    "For e.g. in case of stock price time series plot of a specific company we have date plotted over the x-axis while the stock prices are plotted over the y-axis. \n",
    "\n",
    "#### In this notebook, we are going to analyze the apple stock prices. For this we need to download the stock prices from Yahoo Finance. Goto their website: https://finance.yahoo.com/ > Search for \"AAPL\" > Click \"Historical Data\" > Specify period from Jan 01, 2018 to Dec 31, 2018, and the frequency as 'Daily' > Download Data > A *.csv file gets downloaded. "
   ]
  },
  {
   "cell_type": "markdown",
   "metadata": {},
   "source": [
    "# Load the data"
   ]
  },
  {
   "cell_type": "code",
   "execution_count": 1,
   "metadata": {
    "collapsed": false
   },
   "outputs": [
    {
     "name": "stdout",
     "output_type": "stream",
     "text": [
      "<class 'str'>\n"
     ]
    }
   ],
   "source": [
    "import pandas as pd\n",
    "df = pd.read_csv('AAP.csv')                             # The data read by read_csv() is in string format..\n",
    "df.head()                                               \n",
    "\n",
    "# The first column 'Date' too is in String format. Lets confirm this\n",
    "print(type(df.Date[0]))                                 # [string] format...this is not desired!\n"
   ]
  },
  {
   "cell_type": "markdown",
   "metadata": {},
   "source": [
    "# Reload data, this time ensuring that the Date column has proper format."
   ]
  },
  {
   "cell_type": "code",
   "execution_count": 2,
   "metadata": {
    "collapsed": false
   },
   "outputs": [
    {
     "name": "stdout",
     "output_type": "stream",
     "text": [
      "        Date        Open        High         Low       Close   Adj Close  \\\n",
      "0 2018-01-02  100.900002  107.930000   99.709999  106.089996  105.910828   \n",
      "1 2018-01-03  106.419998  107.660004  105.300003  107.050003  106.869209   \n",
      "2 2018-01-04  107.750000  111.529999  107.480003  111.000000  110.812538   \n",
      "3 2018-01-05  111.959999  113.150002  110.300003  112.180000  111.990547   \n",
      "4 2018-01-08  112.050003  112.290001  110.639999  111.389999  111.201874   \n",
      "\n",
      "    Volume  \n",
      "0  2624500  \n",
      "1  2086800  \n",
      "2  2104500  \n",
      "3  1996700  \n",
      "4  1257100  \n",
      "<class 'pandas._libs.tslibs.timestamps.Timestamp'>\n"
     ]
    }
   ],
   "source": [
    "df = pd.read_csv('AAP.csv', parse_dates=[\"Date\"])     # Observe the additional parameter added. \n",
    "print(df.head())\n",
    "print(type(df.Date[0]))                               # [Timestamp] format. "
   ]
  },
  {
   "cell_type": "markdown",
   "metadata": {},
   "source": [
    "# Again Reload the data and this time make \"Date\" as the index (row label) of the dataframe...\n",
    "### This is a pre-requisite for time series problems. Currently index is the default [integer] index starting from 0."
   ]
  },
  {
   "cell_type": "code",
   "execution_count": 3,
   "metadata": {
    "collapsed": false
   },
   "outputs": [
    {
     "name": "stdout",
     "output_type": "stream",
     "text": [
      "                  Open        High         Low       Close   Adj Close  \\\n",
      "Date                                                                     \n",
      "2018-01-02  100.900002  107.930000   99.709999  106.089996  105.910828   \n",
      "2018-01-03  106.419998  107.660004  105.300003  107.050003  106.869209   \n",
      "2018-01-04  107.750000  111.529999  107.480003  111.000000  110.812538   \n",
      "2018-01-05  111.959999  113.150002  110.300003  112.180000  111.990547   \n",
      "2018-01-08  112.050003  112.290001  110.639999  111.389999  111.201874   \n",
      "\n",
      "             Volume  \n",
      "Date                 \n",
      "2018-01-02  2624500  \n",
      "2018-01-03  2086800  \n",
      "2018-01-04  2104500  \n",
      "2018-01-05  1996700  \n",
      "2018-01-08  1257100  \n",
      "DatetimeIndex(['2018-01-02', '2018-01-03', '2018-01-04', '2018-01-05',\n",
      "               '2018-01-08', '2018-01-09', '2018-01-10', '2018-01-11',\n",
      "               '2018-01-12', '2018-01-16',\n",
      "               ...\n",
      "               '2018-12-17', '2018-12-18', '2018-12-19', '2018-12-20',\n",
      "               '2018-12-21', '2018-12-24', '2018-12-26', '2018-12-27',\n",
      "               '2018-12-28', '2018-12-31'],\n",
      "              dtype='datetime64[ns]', name='Date', length=251, freq=None)\n",
      "<class 'pandas.core.indexes.datetimes.DatetimeIndex'>\n"
     ]
    }
   ],
   "source": [
    "df = pd.read_csv('AAP.csv', parse_dates=[\"Date\"], index_col = \"Date\")\n",
    "print(df.head())\n",
    "\n",
    "# Verify whether \"Date\" was actaully set as index\n",
    "print(df.index)\n",
    "\n",
    "# Verify the type of this index\n",
    "print(type(df.index))                                                    # [DatetimeIndex]\n"
   ]
  },
  {
   "cell_type": "markdown",
   "metadata": {},
   "source": [
    "# Benefits of having [DatetimeIndex]: Ensures easy slicing-dicing of data"
   ]
  },
  {
   "cell_type": "code",
   "execution_count": 4,
   "metadata": {
    "collapsed": false
   },
   "outputs": [
    {
     "name": "stdout",
     "output_type": "stream",
     "text": [
      "                  Open        High         Low       Close   Adj Close  \\\n",
      "Date                                                                     \n",
      "2018-01-02  100.900002  107.930000   99.709999  106.089996  105.910828   \n",
      "2018-01-03  106.419998  107.660004  105.300003  107.050003  106.869209   \n",
      "2018-01-04  107.750000  111.529999  107.480003  111.000000  110.812538   \n",
      "2018-01-05  111.959999  113.150002  110.300003  112.180000  111.990547   \n",
      "2018-01-08  112.050003  112.290001  110.639999  111.389999  111.201874   \n",
      "2018-01-09  111.690002  111.690002  109.809998  110.489998  110.303398   \n",
      "2018-01-10  110.269997  112.000000  109.790001  110.589996  110.403221   \n",
      "2018-01-11  110.699997  113.419998  108.900002  112.949997  112.759247   \n",
      "2018-01-12  114.379997  116.050003  113.019997  115.940002  115.744202   \n",
      "2018-01-16  116.760002  116.839996  112.860001  113.900002  113.707642   \n",
      "2018-01-17  114.739998  116.239998  112.980003  115.349998  115.155190   \n",
      "2018-01-18  115.669998  115.860001  113.660004  115.529999  115.334892   \n",
      "2018-01-19  116.239998  117.510002  115.209999  117.019997  116.822372   \n",
      "2018-01-22  116.879997  118.190002  115.900002  118.029999  117.830666   \n",
      "2018-01-23  117.739998  119.139999  116.599998  119.099998  118.898857   \n",
      "2018-01-24  119.260002  121.239998  118.260002  120.989998  120.785660   \n",
      "2018-01-25  121.120003  121.339996  119.629997  120.919998  120.715790   \n",
      "2018-01-26  123.339996  123.900002  121.660004  123.639999  123.431190   \n",
      "2018-01-29  123.519997  123.629997  122.720001  122.889999  122.682449   \n",
      "2018-01-30  121.570000  122.699997  117.580002  119.269997  119.068565   \n",
      "2018-01-31  119.860001  120.470001  115.830002  116.989998  116.792419   \n",
      "\n",
      "             Volume  \n",
      "Date                 \n",
      "2018-01-02  2624500  \n",
      "2018-01-03  2086800  \n",
      "2018-01-04  2104500  \n",
      "2018-01-05  1996700  \n",
      "2018-01-08  1257100  \n",
      "2018-01-09  1091400  \n",
      "2018-01-10   711200  \n",
      "2018-01-11  1015900  \n",
      "2018-01-12  1579100  \n",
      "2018-01-16  1498100  \n",
      "2018-01-17  1349400  \n",
      "2018-01-18   920900  \n",
      "2018-01-19  1169900  \n",
      "2018-01-22  1612100  \n",
      "2018-01-23  1277000  \n",
      "2018-01-24  1198600  \n",
      "2018-01-25  1250700  \n",
      "2018-01-26  1488400  \n",
      "2018-01-29  1403700  \n",
      "2018-01-30  1889700  \n",
      "2018-01-31  1235700  \n",
      "115.30047490476193\n",
      "                  Open        High         Low       Close   Adj Close  \\\n",
      "Date                                                                     \n",
      "2018-01-31  119.860001  120.470001  115.830002  116.989998  116.792419   \n",
      "\n",
      "             Volume  \n",
      "Date                 \n",
      "2018-01-31  1235700  \n",
      "                  Open        High         Low       Close   Adj Close  \\\n",
      "Date                                                                     \n",
      "2018-01-31  119.860001  120.470001  115.830002  116.989998  116.792419   \n",
      "2018-02-01  116.239998  118.830002  115.830002  117.290001  117.091911   \n",
      "2018-02-02  115.919998  117.180000  113.129997  113.930000  113.737587   \n",
      "2018-02-05  113.050003  114.970001  109.809998  109.860001  109.674461   \n",
      "2018-02-06  108.279999  113.110001  106.750000  112.199997  112.010506   \n",
      "2018-02-07  112.089996  114.580002  109.900002  109.930000  109.744347   \n",
      "2018-02-08  109.930000  115.349998  109.300003  109.629997  109.444847   \n",
      "2018-02-09  110.389999  110.449997  103.339996  109.139999  108.955681   \n",
      "2018-02-12  109.800003  110.800003  108.050003  109.480003  109.295113   \n",
      "2018-02-13  109.169998  109.989998  105.959999  106.220001  106.040611   \n",
      "2018-02-14  105.500000  110.000000  105.260002  109.019997  108.835876   \n",
      "2018-02-15  109.230003  110.279999  107.570000  108.779999  108.596275   \n",
      "2018-02-16  108.720001  109.339996  105.779999  107.570000  107.388329   \n",
      "2018-02-20  107.400002  108.379997  103.720001  105.349998  105.172073   \n",
      "2018-02-21  116.959999  119.300003  113.230003  114.000000  113.807465   \n",
      "2018-02-22  115.099998  115.500000  110.199997  110.489998  110.303398   \n",
      "2018-02-23  111.150002  117.070000  111.080002  116.320000  116.123550   \n",
      "2018-02-26  116.500000  117.739998  112.080002  114.849998  114.656036   \n",
      "2018-02-27  113.260002  113.910004  108.900002  109.800003  109.614571   \n",
      "2018-02-28  110.709999  116.110001  109.680000  114.250000  114.057045   \n",
      "2018-03-01  114.239998  117.889999  113.430000  117.510002  117.311546   \n",
      "2018-03-02  116.669998  116.790001  113.120003  116.070000  115.873970   \n",
      "2018-03-05  115.449997  117.550003  115.120003  116.360001  116.163490   \n",
      "2018-03-06  116.540001  119.040001  115.129997  118.589996  118.389725   \n",
      "2018-03-07  117.430000  118.309998  115.800003  116.769997  116.572792   \n",
      "2018-03-08  117.330002  117.330002  114.540001  115.750000  115.554512   \n",
      "2018-03-09  116.440002  118.940002  114.400002  118.860001  118.659264   \n",
      "2018-03-12  118.559998  119.250000  117.209999  118.410004  118.210030   \n",
      "2018-03-13  118.750000  120.099998  117.260002  119.000000  118.799034   \n",
      "2018-03-14  119.160004  119.879997  116.550003  117.059998  116.862305   \n",
      "...                ...         ...         ...         ...         ...   \n",
      "2018-03-23  112.410004  113.260002  110.339996  110.839996  110.710449   \n",
      "2018-03-26  112.489998  115.070000  111.879997  114.769997  114.635857   \n",
      "2018-03-27  114.580002  117.449997  113.290001  115.010002  114.875580   \n",
      "2018-03-28  115.279999  119.419998  114.080002  115.980003  115.844444   \n",
      "2018-03-29  116.339996  119.220001  115.400002  118.550003  118.411446   \n",
      "2018-04-02  118.610001  119.180000  110.510002  111.930000  111.799171   \n",
      "2018-04-03  112.500000  113.879997  108.949997  111.910004  111.779198   \n",
      "2018-04-04  110.089996  114.980003  109.820000  114.480003  114.346199   \n",
      "2018-04-05  115.459999  116.830002  113.519997  116.389999  116.253960   \n",
      "2018-04-06  115.629997  116.370003  110.769997  111.910004  111.779198   \n",
      "2018-04-09  112.940002  114.889999  110.190002  110.349998  110.221024   \n",
      "2018-04-10  111.139999  112.680000  109.529999  112.139999  112.008926   \n",
      "2018-04-11  111.160004  112.320000  110.150002  110.930000  110.800346   \n",
      "2018-04-12  111.459999  112.589996  110.360001  110.570000  110.440758   \n",
      "2018-04-13  111.139999  112.400002  105.389999  106.610001  106.485397   \n",
      "2018-04-16  106.930000  108.029999  105.019997  106.449997  106.325577   \n",
      "2018-04-17  108.750000  109.930000  106.779999  108.199997  108.073532   \n",
      "2018-04-18  108.849998  109.720001  106.550003  107.389999  107.264481   \n",
      "2018-04-19  107.550003  108.209999  103.489998  105.180000  105.057068   \n",
      "2018-04-20  105.279999  106.449997  102.900002  103.760002  103.638725   \n",
      "2018-04-23  103.260002  105.599998  102.150002  105.519997  105.396660   \n",
      "2018-04-24  105.760002  107.830002  105.199997  106.930000  106.805023   \n",
      "2018-04-25  106.820000  109.309998  106.440002  107.820000  107.693977   \n",
      "2018-04-26  112.019997  115.120003  110.080002  113.180000  113.047714   \n",
      "2018-04-27  113.150002  116.610001  112.650002  116.339996  116.204018   \n",
      "2018-04-30  116.459999  116.680000  113.860001  114.449997  114.316231   \n",
      "2018-05-01  113.860001  115.699997  113.089996  115.580002  115.444908   \n",
      "2018-05-02  115.510002  117.089996  113.800003  115.900002  115.764534   \n",
      "2018-05-03  115.580002  116.610001  114.540001  115.430000  115.295082   \n",
      "2018-05-04  115.000000  117.730003  113.839996  116.669998  116.533630   \n",
      "\n",
      "             Volume  \n",
      "Date                 \n",
      "2018-01-31  1235700  \n",
      "2018-02-01   760600  \n",
      "2018-02-02  1092300  \n",
      "2018-02-05  1281600  \n",
      "2018-02-06  1240100  \n",
      "2018-02-07  2163500  \n",
      "2018-02-08  1549900  \n",
      "2018-02-09  1577900  \n",
      "2018-02-12  1181400  \n",
      "2018-02-13  1392100  \n",
      "2018-02-14  1106700  \n",
      "2018-02-15   818400  \n",
      "2018-02-16   946700  \n",
      "2018-02-20  2369200  \n",
      "2018-02-21  5545200  \n",
      "2018-02-22  1465800  \n",
      "2018-02-23  1504200  \n",
      "2018-02-26  1409600  \n",
      "2018-02-27  2161000  \n",
      "2018-02-28  1901700  \n",
      "2018-03-01  2062100  \n",
      "2018-03-02  1462100  \n",
      "2018-03-05  1088500  \n",
      "2018-03-06  1003700  \n",
      "2018-03-07   708600  \n",
      "2018-03-08   672200  \n",
      "2018-03-09  1088300  \n",
      "2018-03-12   802800  \n",
      "2018-03-13   942500  \n",
      "2018-03-14   681800  \n",
      "...             ...  \n",
      "2018-03-23  1085900  \n",
      "2018-03-26  1008800  \n",
      "2018-03-27  1402700  \n",
      "2018-03-28  1047500  \n",
      "2018-03-29   780800  \n",
      "2018-04-02  1581300  \n",
      "2018-04-03  1504200  \n",
      "2018-04-04   851900  \n",
      "2018-04-05   873500  \n",
      "2018-04-06  1291200  \n",
      "2018-04-09   829500  \n",
      "2018-04-10   926800  \n",
      "2018-04-11   577600  \n",
      "2018-04-12   850700  \n",
      "2018-04-13  1530400  \n",
      "2018-04-16   971500  \n",
      "2018-04-17  1254300  \n",
      "2018-04-18  1303600  \n",
      "2018-04-19  1516400  \n",
      "2018-04-20  1064500  \n",
      "2018-04-23  1029500  \n",
      "2018-04-24  1162900  \n",
      "2018-04-25  1031300  \n",
      "2018-04-26  1672500  \n",
      "2018-04-27  1158600  \n",
      "2018-04-30  1057400  \n",
      "2018-05-01   806900  \n",
      "2018-05-02  1113000  \n",
      "2018-05-03   711400  \n",
      "2018-05-04   860800  \n",
      "\n",
      "[66 rows x 6 columns]\n"
     ]
    }
   ],
   "source": [
    "# The Apple stock data that we have downloaded, contains records of the daily stock prices for the year 2018. \n",
    "# With the DatetimeIndex, we can slice the data as per our requirement. \n",
    "\n",
    "# Case [1]: For e.g. Say we are interested only in Jan 2018, apple stock prices\n",
    "print(df['2018-01'])                         # we have specified a partial index here for slicing data.\n",
    "\n",
    "# Case [2]: For e.g. we want to find the average Closing price of Apple's stock in Jan 2018. \n",
    "print(df['2018-01'].Close.mean())            # 115.30047490476193...Average stock price of Apple in Jan 2018. \n",
    "\n",
    "# Case [3]: For e.g. We want to get stock price details of a specific date say 31st Jan, 2018. \n",
    "print(df[\"2018-01-31\":\"2018-01-31\"])\n",
    "\n",
    "# Case [4]: For e.g. We want to get stock price details for a date range from say 31st Jan, 2018 to 5th May, 2018\n",
    "print(df[\"2018-01-31\" : \"2018-05-05\"])\n"
   ]
  },
  {
   "cell_type": "markdown",
   "metadata": {},
   "source": [
    "# Resampling: \n",
    "The data we have collected are the DAILY stock prices for Apple Industries. Now say we are interested to study only average monthly stock prices. For this we need to resample our data. Select a column, for this transformation. Lets say we choose the 'Close' column. "
   ]
  },
  {
   "cell_type": "code",
   "execution_count": 5,
   "metadata": {
    "collapsed": false
   },
   "outputs": [
    {
     "data": {
      "text/plain": [
       "Date\n",
       "2018-01-31    115.300475\n",
       "2018-02-28    110.953157\n",
       "2018-03-31    116.206190\n",
       "2018-04-30    110.116190\n",
       "2018-05-31    120.012273\n",
       "2018-06-30    134.468573\n",
       "2018-07-31    139.817618\n",
       "2018-08-31    154.761739\n",
       "2018-09-30    167.662631\n",
       "2018-10-31    164.798260\n",
       "2018-11-30    174.099047\n",
       "2018-12-31    161.953684\n",
       "Freq: M, Name: Close, dtype: float64"
      ]
     },
     "execution_count": 5,
     "metadata": {},
     "output_type": "execute_result"
    }
   ],
   "source": [
    "df.Close.resample('M').mean()       # Here 'M' refers to the \"monthly\" aggregation, followed by mean()\n",
    "                                    # This is the monthly average of the closed stock price.  "
   ]
  },
  {
   "cell_type": "markdown",
   "metadata": {},
   "source": [
    "# Plot the monthly average closing stock price of Apple."
   ]
  },
  {
   "cell_type": "code",
   "execution_count": 6,
   "metadata": {
    "collapsed": false
   },
   "outputs": [
    {
     "data": {
      "text/plain": [
       "<matplotlib.axes._subplots.AxesSubplot at 0x19c39268780>"
      ]
     },
     "execution_count": 6,
     "metadata": {},
     "output_type": "execute_result"
    },
    {
     "data": {
      "image/png": "[encoded data removed]",
      "text/plain": [
       "<Figure size 432x288 with 1 Axes>"
      ]
     },
     "metadata": {},
     "output_type": "display_data"
    }
   ],
   "source": [
    "# We can take a shortcut and directly plot from Pandas, using the in-built WRAPPER for matplotlib\n",
    "%matplotlib inline\n",
    "df.Close.resample('M').mean().plot()\n",
    "\n",
    "# Here the frequency of plotting can be customized depending upon the business needs:\n",
    "# M - Month End Freq \n",
    "# MS- Month Start Freq\n",
    "# SM- Semi Month End Freq [15th and End of Month]\n",
    "# SMS-Semi Month Start Freq [1st and 15th]\n",
    "# W - Weekly Freq\n",
    "# Q - Quarter end Freq\n",
    "# QS- Quarter Start Freq\n",
    "# B - Business Day Freq\n",
    "# A - Year end Freq\n",
    "# AS- Year start Freq\n",
    "# H - Hourly Freq\n",
    "# T.min - Minutely Freq\n",
    "# S - Secondly Freq"
   ]
  },
  {
   "cell_type": "markdown",
   "metadata": {},
   "source": [
    "# Plot the Quarterly average closing stock price of Apple - Line Chart"
   ]
  },
  {
   "cell_type": "code",
   "execution_count": 7,
   "metadata": {
    "collapsed": false
   },
   "outputs": [
    {
     "data": {
      "text/plain": [
       "<matplotlib.axes._subplots.AxesSubplot at 0x19c3959bf60>"
      ]
     },
     "execution_count": 7,
     "metadata": {},
     "output_type": "execute_result"
    },
    {
     "data": {
      "image/png": "[encoded data removed]",
      "text/plain": [
       "<Figure size 432x288 with 1 Axes>"
      ]
     },
     "metadata": {},
     "output_type": "display_data"
    }
   ],
   "source": [
    "df.Close.resample('Q').mean().plot()   # We get the graph for quaterly data"
   ]
  },
  {
   "cell_type": "markdown",
   "metadata": {},
   "source": [
    "# Plot the Quarterly average closing stock price of Apple - Bar Chart"
   ]
  },
  {
   "cell_type": "code",
   "execution_count": 8,
   "metadata": {
    "collapsed": false
   },
   "outputs": [
    {
     "data": {
      "text/plain": [
       "<matplotlib.axes._subplots.AxesSubplot at 0x19c395ff1d0>"
      ]
     },
     "execution_count": 8,
     "metadata": {},
     "output_type": "execute_result"
    },
    {
     "data": {
      "image/png": "[encoded data removed]",
      "text/plain": [
       "<Figure size 432x288 with 1 Axes>"
      ]
     },
     "metadata": {},
     "output_type": "display_data"
    }
   ],
   "source": [
    "df.Close.resample('Q').mean().plot(kind = \"bar\")"
   ]
  }
 ],
 "metadata": {
  "kernelspec": {
   "display_name": "Python 3",
   "language": "python",
   "name": "python3"
  },
  "language_info": {
   "codemirror_mode": {
    "name": "ipython",
    "version": 3
   },
   "file_extension": ".py",
   "mimetype": "text/x-python",
   "name": "python",
   "nbconvert_exporter": "python",
   "pygments_lexer": "ipython3",
   "version": "3.6.7"
  }
 },
 "nbformat": 4,
 "nbformat_minor": 2
}
