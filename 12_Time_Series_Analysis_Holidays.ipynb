{
 "cells": [
  {
   "cell_type": "markdown",
   "metadata": {},
   "source": [
    "# Handle Holidays in Pandas Time Series Analysis\n",
    "We have downloaded the stock prices for Apple [Ticker name: AAPL] from 01 July 2017 to 21 July 2017, from Yahoo Finance website. \n",
    "The data is downloaded as a CSV file. Due to some reason you do not have the Date column in your data. \n"
   ]
  },
  {
   "cell_type": "markdown",
   "metadata": {},
   "source": [
    "# Load the data"
   ]
  },
  {
   "cell_type": "code",
   "execution_count": 1,
   "metadata": {
    "collapsed": false
   },
   "outputs": [
    {
     "name": "stdout",
     "output_type": "stream",
     "text": [
      "          Open        High         Low       Close   Adj Close    Volume\n",
      "0   144.880005  145.300003  143.100006  143.500000  140.320023  14277800\n",
      "1   143.690002  144.789993  142.720001  144.089996  140.896942  21569600\n",
      "2   143.020004  143.500000  142.410004  142.729996  139.567093  24128800\n",
      "3   142.899994  144.750000  142.899994  144.179993  140.984940  19201700\n",
      "4   144.110001  145.949997  143.369995  145.059998  141.845444  21090600\n",
      "5   144.729996  145.850006  144.380005  145.529999  142.305038  19781800\n",
      "6   145.869995  146.179993  144.820007  145.740005  142.510376  24884500\n",
      "7   145.500000  148.490005  145.440002  147.770004  144.495407  25199400\n",
      "8   147.970001  149.330002  147.330002  149.039993  145.737244  20132100\n",
      "9   148.820007  150.899994  148.570007  149.559998  146.245728  23793500\n",
      "10  149.199997  150.130005  148.669998  150.080002  146.754242  17868800\n",
      "11  150.479996  151.419998  149.949997  151.020004  147.673386  20923000\n",
      "12  151.500000  151.740005  150.190002  150.339996  147.008469  17243700\n",
      "13  149.990005  150.440002  148.880005  150.270004  146.940033  26252600\n"
     ]
    }
   ],
   "source": [
    "import pandas as pd\n",
    "df = pd.read_csv(\"AAPL_Holiday.csv\")\n",
    "print(df)\n",
    "\n",
    "# Observe that the date column is missing. We need that column for time series analysis"
   ]
  },
  {
   "cell_type": "markdown",
   "metadata": {},
   "source": [
    "# Generate the Datetime Index"
   ]
  },
  {
   "cell_type": "code",
   "execution_count": 2,
   "metadata": {
    "collapsed": false
   },
   "outputs": [
    {
     "name": "stdout",
     "output_type": "stream",
     "text": [
      "DatetimeIndex(['2017-07-03', '2017-07-04', '2017-07-05', '2017-07-06',\n",
      "               '2017-07-07', '2017-07-10', '2017-07-11', '2017-07-12',\n",
      "               '2017-07-13', '2017-07-14', '2017-07-17', '2017-07-18',\n",
      "               '2017-07-19', '2017-07-20', '2017-07-21'],\n",
      "              dtype='datetime64[ns]', freq='B')\n"
     ]
    },
    {
     "ename": "ValueError",
     "evalue": "Length mismatch: Expected axis has 14 elements, new values have 15 elements",
     "output_type": "error",
     "traceback": [
      "\u001b[0;31m---------------------------------------------------------------------------\u001b[0m",
      "\u001b[0;31mValueError\u001b[0m                                Traceback (most recent call last)",
      "\u001b[0;32m<ipython-input-2-f7a68e7b4a54>\u001b[0m in \u001b[0;36m<module>\u001b[0;34m()\u001b[0m\n\u001b[1;32m      8\u001b[0m \u001b[1;31m# [ValueError: Length mismatch: Expected axis has 14 elements, new values have 15 elements]\u001b[0m\u001b[1;33m\u001b[0m\u001b[1;33m\u001b[0m\u001b[1;33m\u001b[0m\u001b[0m\n\u001b[1;32m      9\u001b[0m \u001b[1;33m\u001b[0m\u001b[0m\n\u001b[0;32m---> 10\u001b[0;31m \u001b[0mdf\u001b[0m\u001b[1;33m.\u001b[0m\u001b[0mset_index\u001b[0m\u001b[1;33m(\u001b[0m\u001b[0mdates\u001b[0m\u001b[1;33m,\u001b[0m \u001b[0minplace\u001b[0m\u001b[1;33m=\u001b[0m\u001b[1;32mTrue\u001b[0m\u001b[1;33m)\u001b[0m\u001b[1;33m\u001b[0m\u001b[1;33m\u001b[0m\u001b[0m\n\u001b[0m\u001b[1;32m     11\u001b[0m \u001b[1;33m\u001b[0m\u001b[0m\n\u001b[1;32m     12\u001b[0m \u001b[1;33m\u001b[0m\u001b[0m\n",
      "\u001b[0;32mC:\\Users\\parul\\Anaconda3\\lib\\site-packages\\pandas\\core\\frame.py\u001b[0m in \u001b[0;36mset_index\u001b[0;34m(self, keys, drop, append, inplace, verify_integrity)\u001b[0m\n\u001b[1;32m   3926\u001b[0m         \u001b[0mindex\u001b[0m\u001b[1;33m.\u001b[0m\u001b[0m_cleanup\u001b[0m\u001b[1;33m(\u001b[0m\u001b[1;33m)\u001b[0m\u001b[1;33m\u001b[0m\u001b[1;33m\u001b[0m\u001b[0m\n\u001b[1;32m   3927\u001b[0m \u001b[1;33m\u001b[0m\u001b[0m\n\u001b[0;32m-> 3928\u001b[0;31m         \u001b[0mframe\u001b[0m\u001b[1;33m.\u001b[0m\u001b[0mindex\u001b[0m \u001b[1;33m=\u001b[0m \u001b[0mindex\u001b[0m\u001b[1;33m\u001b[0m\u001b[1;33m\u001b[0m\u001b[0m\n\u001b[0m\u001b[1;32m   3929\u001b[0m \u001b[1;33m\u001b[0m\u001b[0m\n\u001b[1;32m   3930\u001b[0m         \u001b[1;32mif\u001b[0m \u001b[1;32mnot\u001b[0m \u001b[0minplace\u001b[0m\u001b[1;33m:\u001b[0m\u001b[1;33m\u001b[0m\u001b[1;33m\u001b[0m\u001b[0m\n",
      "\u001b[0;32mC:\\Users\\parul\\Anaconda3\\lib\\site-packages\\pandas\\core\\generic.py\u001b[0m in \u001b[0;36m__setattr__\u001b[0;34m(self, name, value)\u001b[0m\n\u001b[1;32m   4383\u001b[0m         \u001b[1;32mtry\u001b[0m\u001b[1;33m:\u001b[0m\u001b[1;33m\u001b[0m\u001b[1;33m\u001b[0m\u001b[0m\n\u001b[1;32m   4384\u001b[0m             \u001b[0mobject\u001b[0m\u001b[1;33m.\u001b[0m\u001b[0m__getattribute__\u001b[0m\u001b[1;33m(\u001b[0m\u001b[0mself\u001b[0m\u001b[1;33m,\u001b[0m \u001b[0mname\u001b[0m\u001b[1;33m)\u001b[0m\u001b[1;33m\u001b[0m\u001b[1;33m\u001b[0m\u001b[0m\n\u001b[0;32m-> 4385\u001b[0;31m             \u001b[1;32mreturn\u001b[0m \u001b[0mobject\u001b[0m\u001b[1;33m.\u001b[0m\u001b[0m__setattr__\u001b[0m\u001b[1;33m(\u001b[0m\u001b[0mself\u001b[0m\u001b[1;33m,\u001b[0m \u001b[0mname\u001b[0m\u001b[1;33m,\u001b[0m \u001b[0mvalue\u001b[0m\u001b[1;33m)\u001b[0m\u001b[1;33m\u001b[0m\u001b[1;33m\u001b[0m\u001b[0m\n\u001b[0m\u001b[1;32m   4386\u001b[0m         \u001b[1;32mexcept\u001b[0m \u001b[0mAttributeError\u001b[0m\u001b[1;33m:\u001b[0m\u001b[1;33m\u001b[0m\u001b[1;33m\u001b[0m\u001b[0m\n\u001b[1;32m   4387\u001b[0m             \u001b[1;32mpass\u001b[0m\u001b[1;33m\u001b[0m\u001b[1;33m\u001b[0m\u001b[0m\n",
      "\u001b[0;32mpandas/_libs/properties.pyx\u001b[0m in \u001b[0;36mpandas._libs.properties.AxisProperty.__set__\u001b[0;34m()\u001b[0m\n",
      "\u001b[0;32mC:\\Users\\parul\\Anaconda3\\lib\\site-packages\\pandas\\core\\generic.py\u001b[0m in \u001b[0;36m_set_axis\u001b[0;34m(self, axis, labels)\u001b[0m\n\u001b[1;32m    643\u001b[0m \u001b[1;33m\u001b[0m\u001b[0m\n\u001b[1;32m    644\u001b[0m     \u001b[1;32mdef\u001b[0m \u001b[0m_set_axis\u001b[0m\u001b[1;33m(\u001b[0m\u001b[0mself\u001b[0m\u001b[1;33m,\u001b[0m \u001b[0maxis\u001b[0m\u001b[1;33m,\u001b[0m \u001b[0mlabels\u001b[0m\u001b[1;33m)\u001b[0m\u001b[1;33m:\u001b[0m\u001b[1;33m\u001b[0m\u001b[1;33m\u001b[0m\u001b[0m\n\u001b[0;32m--> 645\u001b[0;31m         \u001b[0mself\u001b[0m\u001b[1;33m.\u001b[0m\u001b[0m_data\u001b[0m\u001b[1;33m.\u001b[0m\u001b[0mset_axis\u001b[0m\u001b[1;33m(\u001b[0m\u001b[0maxis\u001b[0m\u001b[1;33m,\u001b[0m \u001b[0mlabels\u001b[0m\u001b[1;33m)\u001b[0m\u001b[1;33m\u001b[0m\u001b[1;33m\u001b[0m\u001b[0m\n\u001b[0m\u001b[1;32m    646\u001b[0m         \u001b[0mself\u001b[0m\u001b[1;33m.\u001b[0m\u001b[0m_clear_item_cache\u001b[0m\u001b[1;33m(\u001b[0m\u001b[1;33m)\u001b[0m\u001b[1;33m\u001b[0m\u001b[1;33m\u001b[0m\u001b[0m\n\u001b[1;32m    647\u001b[0m \u001b[1;33m\u001b[0m\u001b[0m\n",
      "\u001b[0;32mC:\\Users\\parul\\Anaconda3\\lib\\site-packages\\pandas\\core\\internals.py\u001b[0m in \u001b[0;36mset_axis\u001b[0;34m(self, axis, new_labels)\u001b[0m\n\u001b[1;32m   3321\u001b[0m             raise ValueError(\n\u001b[1;32m   3322\u001b[0m                 \u001b[1;34m'Length mismatch: Expected axis has {old} elements, new '\u001b[0m\u001b[1;33m\u001b[0m\u001b[1;33m\u001b[0m\u001b[0m\n\u001b[0;32m-> 3323\u001b[0;31m                 'values have {new} elements'.format(old=old_len, new=new_len))\n\u001b[0m\u001b[1;32m   3324\u001b[0m \u001b[1;33m\u001b[0m\u001b[0m\n\u001b[1;32m   3325\u001b[0m         \u001b[0mself\u001b[0m\u001b[1;33m.\u001b[0m\u001b[0maxes\u001b[0m\u001b[1;33m[\u001b[0m\u001b[0maxis\u001b[0m\u001b[1;33m]\u001b[0m \u001b[1;33m=\u001b[0m \u001b[0mnew_labels\u001b[0m\u001b[1;33m\u001b[0m\u001b[1;33m\u001b[0m\u001b[0m\n",
      "\u001b[0;31mValueError\u001b[0m: Length mismatch: Expected axis has 14 elements, new values have 15 elements"
     ]
    }
   ],
   "source": [
    "dates = pd.date_range(start='07-01-2017', end='07-21-2017', freq='B')     # We wish to generate only business/ working dates and no weekends.\n",
    "print(dates)\n",
    "\n",
    "# Observe carefully, that 01 July and 02 July 2017 were weekends, thus these dates were skipped. \n",
    "# However, date 04 July as been generated aswell. This is the US National holiday and the stock markets are closed on this date. \n",
    "# The stock prices we downloaded will have no entry corresponding to 04 July 2017.\n",
    "# If we use these dates as indexes to our stocks data, we encounter the following error:\n",
    "# [ValueError: Length mismatch: Expected axis has 14 elements, new values have 15 elements]\n",
    "\n",
    "df.set_index(dates, inplace=True)\n",
    "\n",
    "\n",
    "# WE THEREFORE NEED TO MAKE PROVISION TO EXCLUDE ALL HOLIDAYS IN USA. The exisitng freq='B' will not work.\n",
    "# We need to define a custom frequency."
   ]
  },
  {
   "cell_type": "markdown",
   "metadata": {},
   "source": [
    "# Lets use the US Holiday calendar for this purpose. "
   ]
  },
  {
   "cell_type": "code",
   "execution_count": 3,
   "metadata": {
    "collapsed": false
   },
   "outputs": [
    {
     "name": "stdout",
     "output_type": "stream",
     "text": [
      "<CustomBusinessDay>\n",
      "<class 'pandas.core.indexes.datetimes.DatetimeIndex'>\n",
      "                  Open        High         Low       Close   Adj Close  \\\n",
      "2017-07-03  144.880005  145.300003  143.100006  143.500000  140.320023   \n",
      "2017-07-05  143.690002  144.789993  142.720001  144.089996  140.896942   \n",
      "2017-07-06  143.020004  143.500000  142.410004  142.729996  139.567093   \n",
      "2017-07-07  142.899994  144.750000  142.899994  144.179993  140.984940   \n",
      "2017-07-10  144.110001  145.949997  143.369995  145.059998  141.845444   \n",
      "2017-07-11  144.729996  145.850006  144.380005  145.529999  142.305038   \n",
      "2017-07-12  145.869995  146.179993  144.820007  145.740005  142.510376   \n",
      "2017-07-13  145.500000  148.490005  145.440002  147.770004  144.495407   \n",
      "2017-07-14  147.970001  149.330002  147.330002  149.039993  145.737244   \n",
      "2017-07-17  148.820007  150.899994  148.570007  149.559998  146.245728   \n",
      "2017-07-18  149.199997  150.130005  148.669998  150.080002  146.754242   \n",
      "2017-07-19  150.479996  151.419998  149.949997  151.020004  147.673386   \n",
      "2017-07-20  151.500000  151.740005  150.190002  150.339996  147.008469   \n",
      "2017-07-21  149.990005  150.440002  148.880005  150.270004  146.940033   \n",
      "\n",
      "              Volume  \n",
      "2017-07-03  14277800  \n",
      "2017-07-05  21569600  \n",
      "2017-07-06  24128800  \n",
      "2017-07-07  19201700  \n",
      "2017-07-10  21090600  \n",
      "2017-07-11  19781800  \n",
      "2017-07-12  24884500  \n",
      "2017-07-13  25199400  \n",
      "2017-07-14  20132100  \n",
      "2017-07-17  23793500  \n",
      "2017-07-18  17868800  \n",
      "2017-07-19  20923000  \n",
      "2017-07-20  17243700  \n",
      "2017-07-21  26252600  \n"
     ]
    }
   ],
   "source": [
    "# Import appropriate libraries\n",
    "from pandas.tseries.holiday import USFederalHolidayCalendar\n",
    "from pandas.tseries.offsets import CustomBusinessDay\n",
    "\n",
    "usb = CustomBusinessDay(calendar=USFederalHolidayCalendar())            # We are considering only US Holidays here...\n",
    "print(usb)  \n",
    "\n",
    "# Generate dates using this custom frequency\n",
    "dates = pd.date_range(start=\"07-01-2017\", end=\"07-21-2017\", freq=usb)   # Use the custom frequency\n",
    "print(type(dates))\n",
    "\n",
    "# Set the Index on the DataFrame\n",
    "df.set_index(dates, inplace=True)                                       # inplace modifies the same DataFrame.\n",
    "print(df)\n",
    "\n",
    "# Inference: Observe that this time, no error was thrown and the holiday of July 04, 2017 was appropriately accounted for. \n",
    "#            The US holidays are all jotted in USFederalHolidayCalendar. If you wanted to work on Indian or chinese holidays, \n",
    "#            you will have to create your custom classes for the same and provide the appropriate holidays. "
   ]
  },
  {
   "cell_type": "markdown",
   "metadata": {},
   "source": [
    "# Creating custom holiday Calendar class\n",
    "For this you need to visit the pandas source code,available on github: https://github.com/pandas-dev/pandas/blob/master/pandas/tseries/holiday.py\n",
    "\n",
    "Here search for the implementation of \"USFederalHolidayCalendar\" class which is the child of \"AbstactHoliday\" calendar. \n",
    "Copy this class as a skeletal template for defining your own Calendar class. \n"
   ]
  },
  {
   "cell_type": "code",
   "execution_count": 7,
   "metadata": {
    "collapsed": false
   },
   "outputs": [
    {
     "data": {
      "text/plain": [
       "<CustomBusinessDay>"
      ]
     },
     "execution_count": 7,
     "metadata": {},
     "output_type": "execute_result"
    }
   ],
   "source": [
    "from pandas.tseries.holiday import AbstractHolidayCalendar, Holiday\n",
    "class myBirthDayCalendar(AbstractHolidayCalendar):\n",
    "    \"\"\"\n",
    "        A list of all birthdays which should be marked as Holidays in my Time Series Analysis date index\n",
    "    \"\"\"\n",
    "    rules = [\n",
    "        Holiday('Mom Birthday', month=4, day=17),\n",
    "        Holiday('Dad Birthday', month=4, day=3)       \n",
    "    ]\n",
    "\n",
    "    \n",
    "# Instantitate the above class as a parameter to the CustomBusinessDay class \n",
    "obj = CustomBusinessDay(calendar=myBirthDayCalendar())\n",
    "obj\n"
   ]
  },
  {
   "cell_type": "code",
   "execution_count": 8,
   "metadata": {
    "collapsed": false
   },
   "outputs": [
    {
     "data": {
      "text/plain": [
       "DatetimeIndex(['2019-04-01', '2019-04-02', '2019-04-04', '2019-04-05',\n",
       "               '2019-04-08', '2019-04-09', '2019-04-10', '2019-04-11',\n",
       "               '2019-04-12', '2019-04-15', '2019-04-16', '2019-04-18',\n",
       "               '2019-04-19', '2019-04-22', '2019-04-23', '2019-04-24',\n",
       "               '2019-04-25', '2019-04-26', '2019-04-29', '2019-04-30'],\n",
       "              dtype='datetime64[ns]', freq='C')"
      ]
     },
     "execution_count": 8,
     "metadata": {},
     "output_type": "execute_result"
    }
   ],
   "source": [
    "# Now create new Date index while using the custom frequency (we created in the previous step)\n",
    "pd.date_range(start=\"2019-04-01\", end=\"2019-04-30\", freq=obj)\n",
    "\n",
    "# Observe that both the dates 17th April and 3rd April are not considered along with the weekends. "
   ]
  },
  {
   "cell_type": "markdown",
   "metadata": {},
   "source": [
    "# Considering holidays that lie on weekends and which were followed either on the next weekday i.e. Monday or the previous Friday"
   ]
  },
  {
   "cell_type": "code",
   "execution_count": 16,
   "metadata": {
    "collapsed": false
   },
   "outputs": [
    {
     "data": {
      "text/plain": [
       "DatetimeIndex(['2019-01-01', '2019-01-02', '2019-01-03', '2019-01-04',\n",
       "               '2019-01-07', '2019-01-08', '2019-01-09', '2019-01-10',\n",
       "               '2019-01-14', '2019-01-15', '2019-01-16', '2019-01-17',\n",
       "               '2019-01-18', '2019-01-21', '2019-01-22', '2019-01-23',\n",
       "               '2019-01-24', '2019-01-25', '2019-01-28', '2019-01-29',\n",
       "               '2019-01-30', '2019-01-31'],\n",
       "              dtype='datetime64[ns]', freq='C')"
      ]
     },
     "execution_count": 16,
     "metadata": {},
     "output_type": "execute_result"
    }
   ],
   "source": [
    "# Assume that my birthday is on 12th January, 2019. I want to mark this as a holiday. Since this was a weekend i.e. Saturday, \n",
    "# I wish to mark the previous Friday i.e. 11th January, 2019 as the holiday. \n",
    "# Again copy the class template and make suitable modifications:\n",
    "# Observe that we added an additional param called 'observance'\n",
    "\n",
    "from pandas.tseries.holiday import AbstractHolidayCalendar, Holiday, nearest_workday\n",
    "class myBirthDayCalendar(AbstractHolidayCalendar):\n",
    "    \"\"\"\n",
    "        A list of all birthdays which should be marked as Holidays in my Time Series Analysis date index\n",
    "    \"\"\"\n",
    "    rules = [\n",
    "        Holiday('My Birthday', month=1, day=12,  observance=nearest_workday)\n",
    "                                               \n",
    "    ]\n",
    "\n",
    "    \n",
    "# Instantitate the above class as a parameter to the CustomBusinessDay class \n",
    "obj = CustomBusinessDay(calendar=myBirthDayCalendar())\n",
    "obj\n",
    "\n",
    "# Create the date index using the custom freq we created\n",
    "pd.date_range(start='2019-01-01', end='2019-01-31', freq=obj)\n",
    "\n",
    "# Observe that 12th and 13th being weekends were ignored. Also since we wanted the nearest workday of 12th [Saturday] i.e. \n",
    "# the 11th[Friday] to be OBSERVED as a holiday the 11th of Jan, 2019 was ignored too...\n",
    "# Had 12th been a Sunday, the nearest workday being 13th, the Monday would have been observed as a holiday. \n",
    "# In case you wish to be specific, you can use the following values for the parameter 'observance':\n",
    "# >>> nearest_workday\n",
    "# >>> previous_friday\n",
    "# >>> next_monday\n"
   ]
  },
  {
   "cell_type": "markdown",
   "metadata": {},
   "source": [
    "# Handling weekends in different countries \n",
    "In countries like Egypt, the weekends are Friday and Saturday instead of Saturday and Sunday. \n",
    "We need to handle these cross country differences within the code. "
   ]
  },
  {
   "cell_type": "code",
   "execution_count": 22,
   "metadata": {
    "collapsed": false
   },
   "outputs": [
    {
     "data": {
      "text/plain": [
       "DatetimeIndex(['2019-01-01', '2019-01-02', '2019-01-03', '2019-01-06',\n",
       "               '2019-01-07', '2019-01-08', '2019-01-09', '2019-01-10',\n",
       "               '2019-01-13', '2019-01-14', '2019-01-15', '2019-01-16',\n",
       "               '2019-01-17', '2019-01-20', '2019-01-21', '2019-01-22',\n",
       "               '2019-01-23', '2019-01-24', '2019-01-27', '2019-01-28',\n",
       "               '2019-01-29', '2019-01-30', '2019-01-31'],\n",
       "              dtype='datetime64[ns]', freq='C')"
      ]
     },
     "execution_count": 22,
     "metadata": {},
     "output_type": "execute_result"
    }
   ],
   "source": [
    "# For this we need to customize the CustomBusinessDay Class and specifically mention which days are the working days. \n",
    "# So in case of Egypt, the working days will be Sun, Mon, Tue, Wed, Thur\n",
    "# See the help of CustomBusinessDay via [Shift] + [Tab]. \n",
    "\n",
    "obj = CustomBusinessDay(weekmask = 'Sun Mon Tue Wed Thu')\n",
    "obj\n",
    "\n",
    "# Create a new date index for Jan 2019\n",
    "pd.date_range(start='2019-01-01', end='2019-01-31', freq=obj)    \n",
    "\n",
    "# Observe: According to US calendar, 5th [Sat] and 6th [Sun] were weekends\n",
    "#          But accroding to Egypt calendar, 4th [Fri] and 5th [Sat] are weekends, while 6th [Sun] is a working day\n"
   ]
  },
  {
   "cell_type": "markdown",
   "metadata": {},
   "source": [
    "# Handling different weekends + Holidays in different countries. "
   ]
  },
  {
   "cell_type": "code",
   "execution_count": 26,
   "metadata": {
    "collapsed": false
   },
   "outputs": [
    {
     "data": {
      "text/plain": [
       "DatetimeIndex(['2019-01-01', '2019-01-03', '2019-01-06', '2019-01-07',\n",
       "               '2019-01-08', '2019-01-09', '2019-01-10', '2019-01-13',\n",
       "               '2019-01-14', '2019-01-15', '2019-01-16', '2019-01-17',\n",
       "               '2019-01-20', '2019-01-21', '2019-01-22', '2019-01-23',\n",
       "               '2019-01-24', '2019-01-27', '2019-01-28', '2019-01-29',\n",
       "               '2019-01-30', '2019-01-31'],\n",
       "              dtype='datetime64[ns]', freq='C')"
      ]
     },
     "execution_count": 26,
     "metadata": {},
     "output_type": "execute_result"
    }
   ],
   "source": [
    "# In Egypt, Fri and Sat are the weekends - Make provision for that. \n",
    "# Also assume that say 2nd Jan, 2019 is a national holiday in Egypt. Make provision for it too. \n",
    "# Again repeat the previous code step  but include an additional 'Holiday' parameter. \n",
    "obj = CustomBusinessDay(weekmask = 'Sun Mon Tue Wed Thu', holidays = ['2019-01-02'])\n",
    "obj\n",
    "\n",
    "# Create a new date index for Jan 2019\n",
    "pd.date_range(start='2019-01-01', end='2019-01-31', freq=obj)  \n",
    "\n",
    "# Observe that all Sundays are nor working days while all Fridays and Saturdays are skipped as weekends. \n",
    "# Also note that 02 Jan, 2019 has been marked as holiday.  "
   ]
  }
 ],
 "metadata": {
  "kernelspec": {
   "display_name": "Python 3",
   "language": "python",
   "name": "python3"
  },
  "language_info": {
   "codemirror_mode": {
    "name": "ipython",
    "version": 3
   },
   "file_extension": ".py",
   "mimetype": "text/x-python",
   "name": "python",
   "nbconvert_exporter": "python",
   "pygments_lexer": "ipython3",
   "version": "3.6.7"
  }
 },
 "nbformat": 4,
 "nbformat_minor": 2
}
